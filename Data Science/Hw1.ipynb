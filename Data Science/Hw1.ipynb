{
 "cells": [
  {
   "cell_type": "code",
   "execution_count": 58,
   "metadata": {},
   "outputs": [],
   "source": [
    "import numpy as np"
   ]
  },
  {
   "cell_type": "code",
   "execution_count": 59,
   "metadata": {},
   "outputs": [
    {
     "data": {
      "text/plain": [
       "array([0., 1., 2., 3., 4., 5., 6., 7., 8., 9.])"
      ]
     },
     "execution_count": 59,
     "metadata": {},
     "output_type": "execute_result"
    }
   ],
   "source": [
    "#Task 1\n",
    "vector_1 = np.array([0, 1, 2, 3, 4, 5, 6, 7, 8, 9], dtype=float)\n",
    "vector_1"
   ]
  },
  {
   "cell_type": "code",
   "execution_count": 60,
   "metadata": {},
   "outputs": [
    {
     "data": {
      "text/plain": [
       "array([[0., 0., 0.],\n",
       "       [0., 0., 0.],\n",
       "       [0., 0., 0.]])"
      ]
     },
     "execution_count": 60,
     "metadata": {},
     "output_type": "execute_result"
    }
   ],
   "source": [
    "#Task 2\n",
    "matrix_1 = np.zeros((3, 3))\n",
    "matrix_1"
   ]
  },
  {
   "cell_type": "code",
   "execution_count": 61,
   "metadata": {},
   "outputs": [
    {
     "data": {
      "text/plain": [
       "array([[ 2,  6,  9, 10,  3],\n",
       "       [ 6,  6,  6,  5,  7],\n",
       "       [ 8, 10,  1,  5,  7],\n",
       "       [ 6,  6,  5,  3, 10],\n",
       "       [ 4,  3, 10,  5,  9]])"
      ]
     },
     "execution_count": 61,
     "metadata": {},
     "output_type": "execute_result"
    }
   ],
   "source": [
    "#Task 3\n",
    "matrix_2 = np.random.randint(1, 11, size=(5, 5))\n",
    "matrix_2"
   ]
  },
  {
   "cell_type": "code",
   "execution_count": 62,
   "metadata": {},
   "outputs": [
    {
     "data": {
      "text/plain": [
       "array([[0.09363125, 0.63772822, 0.56669881, 0.48697826],\n",
       "       [0.42089554, 0.41445843, 0.31493771, 0.44350417],\n",
       "       [0.06254495, 0.72198224, 0.52814101, 0.58294474],\n",
       "       [0.12971487, 0.02688776, 0.26899782, 0.59126976]])"
      ]
     },
     "execution_count": 62,
     "metadata": {},
     "output_type": "execute_result"
    }
   ],
   "source": [
    "#Task 4\n",
    "matrix_3 = np.random.random((4, 4))\n",
    "matrix_3"
   ]
  },
  {
   "cell_type": "code",
   "execution_count": 63,
   "metadata": {},
   "outputs": [
    {
     "data": {
      "text/plain": [
       "array([63, 20,  9, 80, 18])"
      ]
     },
     "execution_count": 63,
     "metadata": {},
     "output_type": "execute_result"
    }
   ],
   "source": [
    "#Task 5\n",
    "vector_2 = np.random.randint(1, 11, 5)\n",
    "vector_3 = np.random.randint(1, 11, 5)\n",
    "vector_2 + vector_3\n",
    "vector_2 - vector_3\n",
    "vector_2 * vector_3"
   ]
  },
  {
   "cell_type": "code",
   "execution_count": 64,
   "metadata": {},
   "outputs": [
    {
     "data": {
      "text/plain": [
       "410"
      ]
     },
     "execution_count": 64,
     "metadata": {},
     "output_type": "execute_result"
    }
   ],
   "source": [
    "#Task 6\n",
    "vector_4 = np.random.randint(1, 11, 7)\n",
    "vector_5 = np.random.randint(1, 11, 7)\n",
    "np.dot(vector_4, vector_5)"
   ]
  },
  {
   "cell_type": "code",
   "execution_count": 65,
   "metadata": {},
   "outputs": [
    {
     "data": {
      "text/plain": [
       "array([[ 79, 149,  86],\n",
       "       [ 42,  91,  45]])"
      ]
     },
     "execution_count": 65,
     "metadata": {},
     "output_type": "execute_result"
    }
   ],
   "source": [
    "#Task 7\n",
    "matrix_4 = np.random.randint(1, 11, size=(2, 2))\n",
    "matrix_5 = np.random.randint(1, 11, size=(2, 3))\n",
    "np.dot(matrix_4, matrix_5)"
   ]
  },
  {
   "cell_type": "code",
   "execution_count": 66,
   "metadata": {},
   "outputs": [
    {
     "data": {
      "text/plain": [
       "array([[ 0.58823529, -0.23529412, -0.29411765],\n",
       "       [ 0.15966387,  0.05042017, -0.1512605 ],\n",
       "       [-0.55462185,  0.19327731,  0.42016807]])"
      ]
     },
     "execution_count": 66,
     "metadata": {},
     "output_type": "execute_result"
    }
   ],
   "source": [
    "#Task 8\n",
    "matrix_6 = np.random.randint(1, 11, size=(3, 3))\n",
    "np.linalg.inv(matrix_6)"
   ]
  },
  {
   "cell_type": "code",
   "execution_count": 67,
   "metadata": {},
   "outputs": [
    {
     "data": {
      "text/plain": [
       "array([[0.55537433, 0.70602626, 0.9716595 , 0.52662347],\n",
       "       [0.84325311, 0.70511464, 0.4203859 , 0.56181591],\n",
       "       [0.23122667, 0.75485705, 0.39094111, 0.88014114],\n",
       "       [0.36255538, 0.68393041, 0.91953275, 0.38137087]])"
      ]
     },
     "execution_count": 67,
     "metadata": {},
     "output_type": "execute_result"
    }
   ],
   "source": [
    "#Task 9\n",
    "matrix_7 = np.random.random((4 ,4))\n",
    "matrix_7.T"
   ]
  },
  {
   "cell_type": "code",
   "execution_count": 68,
   "metadata": {},
   "outputs": [
    {
     "data": {
      "text/plain": [
       "array([124, 110, 114])"
      ]
     },
     "execution_count": 68,
     "metadata": {},
     "output_type": "execute_result"
    }
   ],
   "source": [
    "#Task 10\n",
    "matrix_8 = np.random.randint(1, 11, (3, 4))\n",
    "vector_6 = np.random.randint(1, 11, 4)\n",
    "np.dot(matrix_8, vector_6)"
   ]
  },
  {
   "cell_type": "code",
   "execution_count": 69,
   "metadata": {},
   "outputs": [
    {
     "data": {
      "text/plain": [
       "array([1.16468676, 0.99348839])"
      ]
     },
     "execution_count": 69,
     "metadata": {},
     "output_type": "execute_result"
    }
   ],
   "source": [
    "#Task 11\n",
    "matrix_9 = np.random.random((2, 3))\n",
    "vector_7 = np.random.random(3)\n",
    "np.dot(matrix_9, vector_7)"
   ]
  },
  {
   "cell_type": "code",
   "execution_count": 70,
   "metadata": {},
   "outputs": [
    {
     "data": {
      "text/plain": [
       "array([[20, 50],\n",
       "       [12, 60]])"
      ]
     },
     "execution_count": 70,
     "metadata": {},
     "output_type": "execute_result"
    }
   ],
   "source": [
    "#Task 12\n",
    "matrix_10 = np.random.randint(1, 11, size=(2, 2))\n",
    "matrix_11 = np.random.randint(1, 11, size=(2, 2))\n",
    "np.multiply(matrix_10, matrix_11)"
   ]
  },
  {
   "cell_type": "code",
   "execution_count": 71,
   "metadata": {},
   "outputs": [
    {
     "data": {
      "text/plain": [
       "array([[117,  42],\n",
       "       [ 34,  12]])"
      ]
     },
     "execution_count": 71,
     "metadata": {},
     "output_type": "execute_result"
    }
   ],
   "source": [
    "#Task 13\n",
    "matrix_12 = np.random.randint(1, 11, size=(2, 2))\n",
    "matrix_13 = np.random.randint(1, 11, size=(2, 2))\n",
    "np.matmul(matrix_12, matrix_13)"
   ]
  },
  {
   "cell_type": "code",
   "execution_count": 72,
   "metadata": {},
   "outputs": [
    {
     "data": {
      "text/plain": [
       "1214"
      ]
     },
     "execution_count": 72,
     "metadata": {},
     "output_type": "execute_result"
    }
   ],
   "source": [
    "#Task 14\n",
    "matrix_14 = np.random.randint(1, 101, size=(5, 5))\n",
    "np.sum(matrix_14)"
   ]
  },
  {
   "cell_type": "code",
   "execution_count": 73,
   "metadata": {},
   "outputs": [
    {
     "data": {
      "text/plain": [
       "array([[ 7,  4,  1, -8],\n",
       "       [-1, -1, -5, -5],\n",
       "       [-6,  3,  1,  1],\n",
       "       [ 1,  6,  1,  7]])"
      ]
     },
     "execution_count": 73,
     "metadata": {},
     "output_type": "execute_result"
    }
   ],
   "source": [
    "#Task 15\n",
    "matrix_15 = np.random.randint(1, 11, size=(4, 4))\n",
    "matrix_16 = np.random.randint(1, 11, size=(4, 4))\n",
    "np.subtract(matrix_15, matrix_16)"
   ]
  },
  {
   "cell_type": "code",
   "execution_count": 74,
   "metadata": {},
   "outputs": [
    {
     "data": {
      "text/plain": [
       "array([1.50545101, 0.96045321, 1.36807345])"
      ]
     },
     "execution_count": 74,
     "metadata": {},
     "output_type": "execute_result"
    }
   ],
   "source": [
    "#Task 16\n",
    "matrix_17 = np.random.random((3, 3))\n",
    "np.sum(matrix_17, axis=1)"
   ]
  },
  {
   "cell_type": "code",
   "execution_count": 75,
   "metadata": {},
   "outputs": [
    {
     "data": {
      "text/plain": [
       "array([[ 36, 100,   4,   4],\n",
       "       [ 81,  36,  49, 100],\n",
       "       [  1,  64, 100,  81]])"
      ]
     },
     "execution_count": 75,
     "metadata": {},
     "output_type": "execute_result"
    }
   ],
   "source": [
    "#Task 17\n",
    "matrix_18 = np.random.randint(-10, 10, size=(3, 4))\n",
    "np.square(matrix_18)"
   ]
  },
  {
   "cell_type": "code",
   "execution_count": 76,
   "metadata": {},
   "outputs": [
    {
     "data": {
      "text/plain": [
       "array([4.12310563, 6.32455532, 7.07106781, 6.92820323])"
      ]
     },
     "execution_count": 76,
     "metadata": {},
     "output_type": "execute_result"
    }
   ],
   "source": [
    "#Task 18\n",
    "vector_8 = np.random.randint(1, 51, size=4)\n",
    "np.sqrt(vector_8)"
   ]
  }
 ],
 "metadata": {
  "kernelspec": {
   "display_name": "Python 3",
   "language": "python",
   "name": "python3"
  },
  "language_info": {
   "codemirror_mode": {
    "name": "ipython",
    "version": 3
   },
   "file_extension": ".py",
   "mimetype": "text/x-python",
   "name": "python",
   "nbconvert_exporter": "python",
   "pygments_lexer": "ipython3",
   "version": "3.10.10"
  },
  "orig_nbformat": 4
 },
 "nbformat": 4,
 "nbformat_minor": 2
}
