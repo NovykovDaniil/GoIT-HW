{
 "cells": [
  {
   "cell_type": "code",
   "execution_count": null,
   "metadata": {},
   "outputs": [],
   "source": [
    "import numpy as np"
   ]
  },
  {
   "cell_type": "code",
   "execution_count": null,
   "metadata": {},
   "outputs": [],
   "source": [
    "#Task 1\n",
    "vector_1 = np.array([1, 2, 3, 4, 5, 6, 7, 8, 9, 10], dtype=float)\n",
    "vector_1"
   ]
  },
  {
   "cell_type": "code",
   "execution_count": null,
   "metadata": {},
   "outputs": [],
   "source": [
    "#Task 2\n",
    "matrix_1 = np.zeros((3, 3))\n",
    "matrix_1"
   ]
  },
  {
   "cell_type": "code",
   "execution_count": null,
   "metadata": {},
   "outputs": [],
   "source": [
    "#Task 3\n",
    "matrix_2 = np.random.randint(1, 11, size=(5, 5))\n",
    "matrix_2"
   ]
  },
  {
   "cell_type": "code",
   "execution_count": null,
   "metadata": {},
   "outputs": [],
   "source": [
    "#Task 4\n",
    "matrix_3 = np.random.random((4, 4))\n",
    "matrix_3"
   ]
  },
  {
   "cell_type": "code",
   "execution_count": null,
   "metadata": {},
   "outputs": [],
   "source": [
    "#Task 5\n",
    "vector_2 = np.random.randint(1, 11, 5)\n",
    "vector_3 = np.random.randint(1, 11, 5)\n",
    "vector_2 + vector_3\n",
    "vector_2 - vector_3\n",
    "vector_2 * vector_3"
   ]
  },
  {
   "cell_type": "code",
   "execution_count": null,
   "metadata": {},
   "outputs": [],
   "source": [
    "#Task 6\n",
    "vector_4 = np.random.randint(1, 11, 7)\n",
    "vector_5 = np.random.randint(1, 11, 7)\n",
    "np.dot(vector_4, vector_5)"
   ]
  },
  {
   "cell_type": "code",
   "execution_count": null,
   "metadata": {},
   "outputs": [],
   "source": [
    "#Task 7\n",
    "matrix_4 = np.random.randint(1, 11, size=(2, 2))\n",
    "matrix_5 = np.random.randint(1, 11, size=(2, 3))\n",
    "np.dot(matrix_4, matrix_5)"
   ]
  },
  {
   "cell_type": "code",
   "execution_count": null,
   "metadata": {},
   "outputs": [],
   "source": [
    "#Task 8\n",
    "matrix_6 = np.random.randint(1, 11, size=(3, 3))\n",
    "np.linalg.inv(matrix_6)"
   ]
  },
  {
   "cell_type": "code",
   "execution_count": null,
   "metadata": {},
   "outputs": [],
   "source": [
    "#Task 9\n",
    "matrix_7 = np.random.random((4 ,4))\n",
    "matrix_7.T"
   ]
  },
  {
   "cell_type": "code",
   "execution_count": null,
   "metadata": {},
   "outputs": [],
   "source": [
    "#Task 10\n",
    "matrix_8 = np.random.randint(1, 11, (3, 4))\n",
    "vector_6 = np.random.randint(1, 11, 4)\n",
    "np.dot(matrix_8, vector_6)"
   ]
  },
  {
   "cell_type": "code",
   "execution_count": null,
   "metadata": {},
   "outputs": [],
   "source": [
    "#Task 11\n",
    "matrix_9 = np.random.random((2, 3))\n",
    "vector_10 = np.random.random(3)\n",
    "np.dot(matrix_9, vector_10)"
   ]
  },
  {
   "cell_type": "code",
   "execution_count": null,
   "metadata": {},
   "outputs": [],
   "source": [
    "#Task 12\n",
    "matrix_10 = np.random.randint(1, 11, size=(2, 2))\n",
    "matrix_11 = np.random.randint(1, 11, size=(2, 2))\n",
    "np.multiply(matrix_10, matrix_11)"
   ]
  },
  {
   "cell_type": "code",
   "execution_count": null,
   "metadata": {},
   "outputs": [],
   "source": [
    "#Task 13\n",
    "matrix_12 = np.random.randint(1, 11, size=(2, 2))\n",
    "matrix_13 = np.random.randint(1, 11, size=(2, 2))\n",
    "np.matmul(matrix_12, matrix_13)"
   ]
  },
  {
   "cell_type": "code",
   "execution_count": null,
   "metadata": {},
   "outputs": [],
   "source": [
    "#Task 14\n",
    "matrix_14 = np.random.randint(1, 101, size=(5, 5))\n",
    "np.sum(matrix_14)"
   ]
  },
  {
   "cell_type": "code",
   "execution_count": null,
   "metadata": {},
   "outputs": [],
   "source": [
    "#Task 15\n",
    "matrix_15 = np.random.randint(1, 11, size=(4, 4))\n",
    "matrix_16 = np.random.randint(1, 11, size=(4, 4))\n",
    "np.subtract(matrix_15, matrix_16)"
   ]
  },
  {
   "cell_type": "code",
   "execution_count": null,
   "metadata": {},
   "outputs": [],
   "source": [
    "#Task 16\n",
    "matrix_17 = np.random.rand(3, 3)\n",
    "vector_11 = np.sum(matrix_17, axis=1).reshape(-1, 1)\n",
    "vector_11"
   ]
  },
  {
   "cell_type": "code",
   "execution_count": null,
   "metadata": {},
   "outputs": [],
   "source": [
    "#Task 17\n",
    "matrix_18 = np.random.randint(-10, 10, size=(3, 4))\n",
    "np.square(matrix_18)"
   ]
  },
  {
   "cell_type": "code",
   "execution_count": null,
   "metadata": {},
   "outputs": [],
   "source": [
    "#Task 18\n",
    "vector_12 = np.random.randint(1, 51, size=4)\n",
    "np.sqrt(vector_12)"
   ]
  }
 ],
 "metadata": {
  "kernelspec": {
   "display_name": "Python 3",
   "language": "python",
   "name": "python3"
  },
  "language_info": {
   "codemirror_mode": {
    "name": "ipython",
    "version": 3
   },
   "file_extension": ".py",
   "mimetype": "text/x-python",
   "name": "python",
   "nbconvert_exporter": "python",
   "pygments_lexer": "ipython3",
   "version": "3.10.10"
  },
  "orig_nbformat": 4
 },
 "nbformat": 4,
 "nbformat_minor": 2
}
