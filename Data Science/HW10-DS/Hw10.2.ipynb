{
  "cells": [
    {
      "cell_type": "code",
      "execution_count": 1,
      "metadata": {
        "id": "_9Yot0a61tux"
      },
      "outputs": [],
      "source": [
        "import pandas as pd\n",
        "import numpy as np\n",
        "import matplotlib.pyplot as plt\n",
        "import tensorflow as tf\n",
        "from tensorflow import keras\n",
        "\n",
        "from keras.models import Sequential\n",
        "from keras.layers import Dense, Flatten, Lambda, Concatenate, GaussianDropout\n",
        "from keras.optimizers import Adam\n",
        "from keras.preprocessing.image import ImageDataGenerator\n",
        "from keras.applications.vgg16 import VGG16, preprocess_input\n",
        "from keras.callbacks import EarlyStopping, LearningRateScheduler\n",
        "from keras.preprocessing.image import img_to_array\n",
        "from keras.utils import to_categorical\n",
        "from keras.datasets import fashion_mnist"
      ]
    },
    {
      "cell_type": "code",
      "execution_count": 2,
      "metadata": {
        "id": "TndnoXuE1tu3"
      },
      "outputs": [],
      "source": [
        "BATCH_SIZE = 128\n",
        "EPOCHS = 10"
      ]
    },
    {
      "cell_type": "code",
      "execution_count": 3,
      "metadata": {
        "colab": {
          "base_uri": "https://localhost:8080/"
        },
        "id": "N3eHxeq51tu4",
        "outputId": "37b8d262-9b50-40c0-99a9-bb291e701b05"
      },
      "outputs": [
        {
          "name": "stdout",
          "output_type": "stream",
          "text": [
            "Downloading data from https://storage.googleapis.com/tensorflow/tf-keras-datasets/train-labels-idx1-ubyte.gz\n",
            "29515/29515 [==============================] - 0s 1us/step\n",
            "Downloading data from https://storage.googleapis.com/tensorflow/tf-keras-datasets/train-images-idx3-ubyte.gz\n",
            "26421880/26421880 [==============================] - 2s 0us/step\n",
            "Downloading data from https://storage.googleapis.com/tensorflow/tf-keras-datasets/t10k-labels-idx1-ubyte.gz\n",
            "5148/5148 [==============================] - 0s 0us/step\n",
            "Downloading data from https://storage.googleapis.com/tensorflow/tf-keras-datasets/t10k-images-idx3-ubyte.gz\n",
            "4422102/4422102 [==============================] - 1s 0us/step\n"
          ]
        }
      ],
      "source": [
        "(x_train, y_train), (x_test, y_test) = fashion_mnist.load_data()"
      ]
    },
    {
      "cell_type": "code",
      "execution_count": 4,
      "metadata": {
        "colab": {
          "base_uri": "https://localhost:8080/"
        },
        "id": "lPF_EmtE1tu5",
        "outputId": "3be70bb7-c60b-4f40-c88e-ab6e21f0b44c"
      },
      "outputs": [
        {
          "data": {
            "text/plain": [
              "((60000, 28, 28, 1), (60000, 10), (10000, 28, 28, 1), (10000, 10))"
            ]
          },
          "execution_count": 4,
          "metadata": {},
          "output_type": "execute_result"
        }
      ],
      "source": [
        "x_train=np.reshape(x_train, (-1,28,28,1))\n",
        "x_test=np.reshape(x_test, (-1,28,28,1))\n",
        "\n",
        "y_train = to_categorical(y_train)\n",
        "y_test = to_categorical(y_test)\n",
        "\n",
        "x_train.shape, y_train.shape, x_test.shape, y_test.shape"
      ]
    },
    {
      "cell_type": "code",
      "execution_count": 5,
      "metadata": {
        "id": "9Mr7Sf591tu7"
      },
      "outputs": [],
      "source": [
        "datagen = ImageDataGenerator(\n",
        "    rotation_range=40,\n",
        "    width_shift_range=0.2,\n",
        "    height_shift_range=0.2,\n",
        "    shear_range=0.2,\n",
        "    zoom_range=0.2,\n",
        "    horizontal_flip=True,\n",
        "    fill_mode=\"nearest\"\n",
        ")"
      ]
    },
    {
      "cell_type": "code",
      "execution_count": 6,
      "metadata": {
        "id": "PP2JHYhW1tu9"
      },
      "outputs": [],
      "source": [
        "augmented_images = datagen.flow(x_train, y_train, batch_size=len(x_train), shuffle=False)\n",
        "\n",
        "x_train_augmented, y_train_augmented = next(augmented_images)\n",
        "\n",
        "x_train = np.concatenate([x_train, x_train_augmented])\n",
        "y_train = np.concatenate([y_train, y_train_augmented])"
      ]
    },
    {
      "cell_type": "code",
      "execution_count": 7,
      "metadata": {
        "colab": {
          "base_uri": "https://localhost:8080/"
        },
        "id": "3Vb1bWgR1tu_",
        "outputId": "83393609-a132-4f6a-8786-2e49a086c854"
      },
      "outputs": [
        {
          "data": {
            "text/plain": [
              "(TensorShape([120000, 28, 28, 3]), TensorShape([10000, 28, 28, 3]))"
            ]
          },
          "execution_count": 7,
          "metadata": {},
          "output_type": "execute_result"
        }
      ],
      "source": [
        "x_train = Concatenate()([x_train,x_train,x_train])\n",
        "x_test = Concatenate()([x_test,x_test,x_test])\n",
        "\n",
        "x_train.shape, x_test.shape"
      ]
    },
    {
      "cell_type": "code",
      "execution_count": 8,
      "metadata": {
        "colab": {
          "base_uri": "https://localhost:8080/"
        },
        "id": "47jsjFsv1tvA",
        "outputId": "2a796b9d-e13b-4b6e-baee-8bb5d3329ce9"
      },
      "outputs": [
        {
          "data": {
            "text/plain": [
              "(TensorShape([120000, 32, 32, 3]), TensorShape([10000, 32, 32, 3]))"
            ]
          },
          "execution_count": 8,
          "metadata": {},
          "output_type": "execute_result"
        }
      ],
      "source": [
        "x_train = tf.image.resize(x_train, (32,32))\n",
        "x_test = tf.image.resize(x_test, (32,32))\n",
        "\n",
        "x_train.shape, x_test.shape"
      ]
    },
    {
      "cell_type": "code",
      "execution_count": 9,
      "metadata": {
        "colab": {
          "base_uri": "https://localhost:8080/"
        },
        "id": "0yALcxV01tvB",
        "outputId": "3db1f43c-8dac-4563-ab0e-af343200caad"
      },
      "outputs": [
        {
          "data": {
            "text/plain": [
              "((120000, 32, 32, 3), (10000, 32, 32, 3))"
            ]
          },
          "execution_count": 9,
          "metadata": {},
          "output_type": "execute_result"
        }
      ],
      "source": [
        "x_train = np.asarray([img_to_array(im) for im in x_train])\n",
        "x_test = np.asarray([img_to_array(im) for im in x_test])\n",
        "\n",
        "x_train.shape, x_test.shape"
      ]
    },
    {
      "cell_type": "code",
      "execution_count": 10,
      "metadata": {
        "id": "7JAhzMGpB-8s"
      },
      "outputs": [],
      "source": [
        "train_generator = ImageDataGenerator(\n",
        "      rescale=1./255,\n",
        "      rotation_range=20,\n",
        "      width_shift_range=0.2,\n",
        "      height_shift_range=0.2,\n",
        "      shear_range=0.2,\n",
        "      zoom_range=0.2,\n",
        "      horizontal_flip=True,\n",
        "      fill_mode='nearest'\n",
        ")\n",
        "\n",
        "test_generator = ImageDataGenerator(rescale=1./255)\n",
        "\n",
        "train_generator.fit(x_train)\n",
        "test_generator.fit(x_test)\n",
        "\n",
        "traingen = train_generator.flow(x_train,y_train,batch_size=200)\n",
        "testgen = test_generator.flow(x_test,y_test,batch_size=200)"
      ]
    },
    {
      "cell_type": "code",
      "execution_count": 11,
      "metadata": {
        "colab": {
          "base_uri": "https://localhost:8080/"
        },
        "id": "6VGlIfNe1tvC",
        "outputId": "3b6171bf-f3eb-49db-abc0-a2086c57d4da"
      },
      "outputs": [
        {
          "name": "stdout",
          "output_type": "stream",
          "text": [
            "Downloading data from https://storage.googleapis.com/tensorflow/keras-applications/vgg16/vgg16_weights_tf_dim_ordering_tf_kernels_notop.h5\n",
            "58889256/58889256 [==============================] - 4s 0us/step\n"
          ]
        }
      ],
      "source": [
        "conv_base = VGG16(include_top=False, input_shape=(150, 150, 3))\n",
        "\n",
        "conv_base.trainable = True\n",
        "set_trainable = False\n",
        "for layer in conv_base.layers:\n",
        "    if layer.name == \"block3_conv1\":\n",
        "        set_trainable = True\n",
        "    if set_trainable:\n",
        "        layer.trainable = True\n",
        "    else:\n",
        "        layer.trainable = False"
      ]
    },
    {
      "cell_type": "code",
      "execution_count": 12,
      "metadata": {
        "colab": {
          "base_uri": "https://localhost:8080/"
        },
        "id": "B1B-REPk1tvC",
        "outputId": "35a9687f-5d3a-4893-c659-69170d3dd92b"
      },
      "outputs": [
        {
          "name": "stdout",
          "output_type": "stream",
          "text": [
            "Model: \"vgg16\"\n",
            "_________________________________________________________________\n",
            " Layer (type)                Output Shape              Param #   \n",
            "=================================================================\n",
            " input_1 (InputLayer)        [(None, 150, 150, 3)]     0         \n",
            "                                                                 \n",
            " block1_conv1 (Conv2D)       (None, 150, 150, 64)      1792      \n",
            "                                                                 \n",
            " block1_conv2 (Conv2D)       (None, 150, 150, 64)      36928     \n",
            "                                                                 \n",
            " block1_pool (MaxPooling2D)  (None, 75, 75, 64)        0         \n",
            "                                                                 \n",
            " block2_conv1 (Conv2D)       (None, 75, 75, 128)       73856     \n",
            "                                                                 \n",
            " block2_conv2 (Conv2D)       (None, 75, 75, 128)       147584    \n",
            "                                                                 \n",
            " block2_pool (MaxPooling2D)  (None, 37, 37, 128)       0         \n",
            "                                                                 \n",
            " block3_conv1 (Conv2D)       (None, 37, 37, 256)       295168    \n",
            "                                                                 \n",
            " block3_conv2 (Conv2D)       (None, 37, 37, 256)       590080    \n",
            "                                                                 \n",
            " block3_conv3 (Conv2D)       (None, 37, 37, 256)       590080    \n",
            "                                                                 \n",
            " block3_pool (MaxPooling2D)  (None, 18, 18, 256)       0         \n",
            "                                                                 \n",
            " block4_conv1 (Conv2D)       (None, 18, 18, 512)       1180160   \n",
            "                                                                 \n",
            " block4_conv2 (Conv2D)       (None, 18, 18, 512)       2359808   \n",
            "                                                                 \n",
            " block4_conv3 (Conv2D)       (None, 18, 18, 512)       2359808   \n",
            "                                                                 \n",
            " block4_pool (MaxPooling2D)  (None, 9, 9, 512)         0         \n",
            "                                                                 \n",
            " block5_conv1 (Conv2D)       (None, 9, 9, 512)         2359808   \n",
            "                                                                 \n",
            " block5_conv2 (Conv2D)       (None, 9, 9, 512)         2359808   \n",
            "                                                                 \n",
            " block5_conv3 (Conv2D)       (None, 9, 9, 512)         2359808   \n",
            "                                                                 \n",
            " block5_pool (MaxPooling2D)  (None, 4, 4, 512)         0         \n",
            "                                                                 \n",
            "=================================================================\n",
            "Total params: 14714688 (56.13 MB)\n",
            "Trainable params: 14454528 (55.14 MB)\n",
            "Non-trainable params: 260160 (1016.25 KB)\n",
            "_________________________________________________________________\n"
          ]
        }
      ],
      "source": [
        "conv_base.summary()"
      ]
    },
    {
      "cell_type": "code",
      "execution_count": 13,
      "metadata": {
        "id": "K6X1Ka5P1tvD"
      },
      "outputs": [],
      "source": [
        "model = Sequential()\n",
        "model.add(Lambda(lambda x: tf.image.resize(x, (150, 150))))\n",
        "model.add(conv_base)\n",
        "model.add(Flatten())\n",
        "model.add(GaussianDropout(0.2))\n",
        "model.add(Dense(1024, activation='relu'))\n",
        "model.add(Dense(512, activation='relu'))\n",
        "model.add(Dense(256, activation='relu'))\n",
        "model.add(Dense(128, activation='relu'))\n",
        "model.add(Dense(10, activation='softmax'))\n",
        "model.build((None, 150, 150, 3))"
      ]
    },
    {
      "cell_type": "code",
      "execution_count": 14,
      "metadata": {
        "colab": {
          "base_uri": "https://localhost:8080/"
        },
        "id": "OzOggD4P1tvE",
        "outputId": "b0193c0c-93b4-4d14-f47a-59ef9bc260a9"
      },
      "outputs": [
        {
          "name": "stdout",
          "output_type": "stream",
          "text": [
            "Model: \"sequential\"\n",
            "_________________________________________________________________\n",
            " Layer (type)                Output Shape              Param #   \n",
            "=================================================================\n",
            " lambda (Lambda)             (None, 150, 150, 3)       0         \n",
            "                                                                 \n",
            " vgg16 (Functional)          (None, 4, 4, 512)         14714688  \n",
            "                                                                 \n",
            " flatten (Flatten)           (None, 8192)              0         \n",
            "                                                                 \n",
            " gaussian_dropout (Gaussian  (None, 8192)              0         \n",
            " Dropout)                                                        \n",
            "                                                                 \n",
            " dense (Dense)               (None, 1024)              8389632   \n",
            "                                                                 \n",
            " dense_1 (Dense)             (None, 512)               524800    \n",
            "                                                                 \n",
            " dense_2 (Dense)             (None, 256)               131328    \n",
            "                                                                 \n",
            " dense_3 (Dense)             (None, 128)               32896     \n",
            "                                                                 \n",
            " dense_4 (Dense)             (None, 10)                1290      \n",
            "                                                                 \n",
            "=================================================================\n",
            "Total params: 23794634 (90.77 MB)\n",
            "Trainable params: 23534474 (89.78 MB)\n",
            "Non-trainable params: 260160 (1016.25 KB)\n",
            "_________________________________________________________________\n"
          ]
        }
      ],
      "source": [
        "model.summary()"
      ]
    },
    {
      "cell_type": "code",
      "execution_count": 15,
      "metadata": {
        "id": "UU9MHxGD1tvF"
      },
      "outputs": [],
      "source": [
        "model.compile(\n",
        "    loss=\"categorical_crossentropy\",\n",
        "    optimizer=Adam(learning_rate = 1e-4),\n",
        "    metrics=[\"acc\"]\n",
        ")"
      ]
    },
    {
      "cell_type": "code",
      "execution_count": 16,
      "metadata": {
        "id": "hckwcNwn1tvF"
      },
      "outputs": [],
      "source": [
        "def scheduler(epoch, lr):\n",
        "  if epoch < 10:\n",
        "    return lr\n",
        "  else:\n",
        "    return lr * tf.math.exp(-0.1)"
      ]
    },
    {
      "cell_type": "code",
      "execution_count": 17,
      "metadata": {
        "colab": {
          "base_uri": "https://localhost:8080/"
        },
        "id": "xbGvYZN21tvF",
        "outputId": "437eae71-57f4-4da6-a75b-e0fb331c396f"
      },
      "outputs": [
        {
          "name": "stdout",
          "output_type": "stream",
          "text": [
            "Epoch 1/10\n",
            "600/600 [==============================] - 545s 853ms/step - loss: 0.6174 - acc: 0.7736 - val_loss: 0.2969 - val_acc: 0.8885 - lr: 1.0000e-04\n",
            "Epoch 2/10\n",
            "600/600 [==============================] - 510s 850ms/step - loss: 0.3977 - acc: 0.8544 - val_loss: 0.2537 - val_acc: 0.9085 - lr: 1.0000e-04\n",
            "Epoch 3/10\n",
            "600/600 [==============================] - 509s 848ms/step - loss: 0.3433 - acc: 0.8746 - val_loss: 0.2535 - val_acc: 0.9000 - lr: 1.0000e-04\n",
            "Epoch 4/10\n",
            "600/600 [==============================] - 508s 847ms/step - loss: 0.3096 - acc: 0.8867 - val_loss: 0.2234 - val_acc: 0.9186 - lr: 1.0000e-04\n",
            "Epoch 5/10\n",
            "600/600 [==============================] - 507s 844ms/step - loss: 0.2883 - acc: 0.8946 - val_loss: 0.2152 - val_acc: 0.9188 - lr: 1.0000e-04\n",
            "Epoch 6/10\n",
            "600/600 [==============================] - 507s 844ms/step - loss: 0.2733 - acc: 0.9002 - val_loss: 0.2210 - val_acc: 0.9207 - lr: 1.0000e-04\n",
            "Epoch 7/10\n",
            "600/600 [==============================] - 506s 843ms/step - loss: 0.2540 - acc: 0.9065 - val_loss: 0.2244 - val_acc: 0.9192 - lr: 1.0000e-04\n",
            "Epoch 8/10\n",
            "600/600 [==============================] - 505s 842ms/step - loss: 0.2463 - acc: 0.9092 - val_loss: 0.2168 - val_acc: 0.9233 - lr: 1.0000e-04\n",
            "Epoch 9/10\n",
            "600/600 [==============================] - 504s 840ms/step - loss: 0.2290 - acc: 0.9161 - val_loss: 0.1985 - val_acc: 0.9310 - lr: 1.0000e-04\n",
            "Epoch 10/10\n",
            "600/600 [==============================] - 504s 840ms/step - loss: 0.2213 - acc: 0.9189 - val_loss: 0.1835 - val_acc: 0.9350 - lr: 1.0000e-04\n"
          ]
        }
      ],
      "source": [
        "lr_scheduler = LearningRateScheduler(scheduler)\n",
        "callbacks = [lr_scheduler]\n",
        "\n",
        "history = model.fit(traingen, validation_split=0.1, batch_size=BATCH_SIZE, epochs=EPOCHS, validation_data=testgen, callbacks=callbacks)"
      ]
    },
    {
      "cell_type": "code",
      "execution_count": 21,
      "metadata": {
        "id": "R3ZDzLGAZo9x"
      },
      "outputs": [],
      "source": [
        "def accuracy_and_loss_plots(history):\n",
        "    fig, (ax1,ax2) = plt.subplots(nrows=1,ncols=2,figsize=(12,5))\n",
        "    ax1.plot(history.history['val_acc'])\n",
        "    ax1.set_title('Test Accuracy by Epoch')\n",
        "    ax1.set_xlabel('Epoch')\n",
        "    ax1.set_ylim(0.8,1)\n",
        "    ax2.plot(history.history['loss'], label='Training loss')\n",
        "    ax2.plot(history.history['val_loss'], label='Testing loss')\n",
        "    ax2.set_title('Loss Reduction by Epoch')\n",
        "    ax2.set_xlabel('Epoch')\n",
        "    ax2.set_ylim(0,1)\n",
        "    ax2.legend()"
      ]
    },
    {
      "cell_type": "code",
      "execution_count": 22,
      "metadata": {
        "colab": {
          "base_uri": "https://localhost:8080/",
          "height": 487
        },
        "id": "kJkl_QLOZsUm",
        "outputId": "9c20c7d1-c2a7-4331-ac76-f104bfc0f846"
      },
      "outputs": [
        {
          "data": {
            "image/png": "[encoded data removed]",
            "text/plain": [
              "<Figure size 1200x500 with 2 Axes>"
            ]
          },
          "metadata": {},
          "output_type": "display_data"
        }
      ],
      "source": [
        "accuracy_and_loss_plots(history)"
      ]
    },
    {
      "cell_type": "markdown",
      "metadata": {},
      "source": [
        "# Conclusion\n",
        "In this home assignment, we created two convolutional neural networks, one with its own convolutional layer architecture, the other by training an existing convolutional neural network to classify images, and used imagenet weights. \n",
        "\n",
        "* Time of learning of the first CNN: 7200s  \n",
        "* Time of learning of the second CNN: 5400s  \n",
        "* Accuracy of the first CNN: 93%  \n",
        "* Accuracy of the second CNN: 93.5%  "
      ]
    }
  ],
  "metadata": {
    "accelerator": "GPU",
    "colab": {
      "gpuType": "T4",
      "provenance": []
    },
    "kernelspec": {
      "display_name": "Python 3",
      "name": "python3"
    },
    "language_info": {
      "codemirror_mode": {
        "name": "ipython",
        "version": 3
      },
      "file_extension": ".py",
      "mimetype": "text/x-python",
      "name": "python",
      "nbconvert_exporter": "python",
      "pygments_lexer": "ipython3",
      "version": "3.10.10"
    }
  },
  "nbformat": 4,
  "nbformat_minor": 0
}
