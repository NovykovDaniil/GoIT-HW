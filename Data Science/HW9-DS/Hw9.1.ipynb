{
 "cells": [
  {
   "cell_type": "code",
   "execution_count": 83,
   "metadata": {},
   "outputs": [],
   "source": [
    "import numpy as np\n",
    "\n",
    "from matplotlib import pyplot as plt\n",
    "import tensorflow as tf"
   ]
  },
  {
   "cell_type": "code",
   "execution_count": 2,
   "metadata": {},
   "outputs": [
    {
     "name": "stdout",
     "output_type": "stream",
     "text": [
      "Downloading data from https://storage.googleapis.com/tensorflow/tf-keras-datasets/train-labels-idx1-ubyte.gz\n",
      "29515/29515 [==============================] - 0s 4us/step\n",
      "Downloading data from https://storage.googleapis.com/tensorflow/tf-keras-datasets/train-images-idx3-ubyte.gz\n",
      "26421880/26421880 [==============================] - 264s 10us/step\n",
      "Downloading data from https://storage.googleapis.com/tensorflow/tf-keras-datasets/t10k-labels-idx1-ubyte.gz\n",
      "5148/5148 [==============================] - 0s 0s/step\n",
      "Downloading data from https://storage.googleapis.com/tensorflow/tf-keras-datasets/t10k-images-idx3-ubyte.gz\n",
      "4422102/4422102 [==============================] - 55s 12us/step\n"
     ]
    }
   ],
   "source": [
    "data = tf.keras.datasets.fashion_mnist.load_data()"
   ]
  },
  {
   "cell_type": "code",
   "execution_count": 81,
   "metadata": {},
   "outputs": [],
   "source": [
    "(x_train, y_train), (x_test, y_test) = data"
   ]
  },
  {
   "cell_type": "markdown",
   "metadata": {},
   "source": [
    "Output of the first image from the dataset"
   ]
  },
  {
   "cell_type": "code",
   "execution_count": 31,
   "metadata": {},
   "outputs": [
    {
     "data": {
      "image/png": "[encoded data removed]",
      "text/plain": [
       "<Figure size 800x800 with 1 Axes>"
      ]
     },
     "metadata": {},
     "output_type": "display_data"
    }
   ],
   "source": [
    "plt.figure(figsize=[8,8])\n",
    "plt.subplot(1,2,1)\n",
    "plt.imshow(x_train[1,:,:], cmap='gray')\n",
    "plt.show()"
   ]
  },
  {
   "cell_type": "code",
   "execution_count": 32,
   "metadata": {},
   "outputs": [
    {
     "name": "stdout",
     "output_type": "stream",
     "text": [
      "Total number of classes :  10\n",
      "Unique labels :  [0 1 2 3 4 5 6 7 8 9]\n"
     ]
    }
   ],
   "source": [
    "unique_labels = np.unique(y_train)\n",
    "\n",
    "num_classes = len(unique_labels)\n",
    "\n",
    "print('Total number of classes : ', num_classes)\n",
    "print('Unique labels : ', unique_labels)"
   ]
  },
  {
   "cell_type": "markdown",
   "metadata": {},
   "source": [
    "### Creating a neural network models"
   ]
  },
  {
   "cell_type": "markdown",
   "metadata": {},
   "source": [
    "NN Classifier with Dense layers"
   ]
  },
  {
   "cell_type": "code",
   "execution_count": 77,
   "metadata": {},
   "outputs": [
    {
     "name": "stdout",
     "output_type": "stream",
     "text": [
      "Epoch 1/20\n",
      "469/469 [==============================] - 36s 49ms/step - loss: 0.6387 - accuracy: 0.7732 - val_loss: 0.4263 - val_accuracy: 0.8511\n",
      "Epoch 2/20\n",
      "469/469 [==============================] - 19s 40ms/step - loss: 0.4335 - accuracy: 0.8456 - val_loss: 0.3958 - val_accuracy: 0.8557\n",
      "Epoch 3/20\n",
      "469/469 [==============================] - 19s 40ms/step - loss: 0.3871 - accuracy: 0.8607 - val_loss: 0.3727 - val_accuracy: 0.8668\n",
      "Epoch 4/20\n",
      "469/469 [==============================] - 18s 39ms/step - loss: 0.3631 - accuracy: 0.8696 - val_loss: 0.3605 - val_accuracy: 0.8659\n",
      "Epoch 5/20\n",
      "469/469 [==============================] - 18s 39ms/step - loss: 0.3439 - accuracy: 0.8761 - val_loss: 0.3424 - val_accuracy: 0.8767\n",
      "Epoch 6/20\n",
      "469/469 [==============================] - 19s 40ms/step - loss: 0.3330 - accuracy: 0.8806 - val_loss: 0.3495 - val_accuracy: 0.8751\n",
      "Epoch 7/20\n",
      "469/469 [==============================] - 18s 38ms/step - loss: 0.3227 - accuracy: 0.8837 - val_loss: 0.3370 - val_accuracy: 0.8797\n",
      "Epoch 8/20\n",
      "469/469 [==============================] - 19s 40ms/step - loss: 0.3097 - accuracy: 0.8879 - val_loss: 0.3318 - val_accuracy: 0.8819\n",
      "Epoch 9/20\n",
      "469/469 [==============================] - 19s 40ms/step - loss: 0.3005 - accuracy: 0.8905 - val_loss: 0.3329 - val_accuracy: 0.8836\n",
      "Epoch 10/20\n",
      "469/469 [==============================] - 18s 39ms/step - loss: 0.2935 - accuracy: 0.8922 - val_loss: 0.3312 - val_accuracy: 0.8819\n",
      "Epoch 11/20\n",
      "469/469 [==============================] - 18s 39ms/step - loss: 0.2849 - accuracy: 0.8954 - val_loss: 0.3318 - val_accuracy: 0.8810\n",
      "Epoch 12/20\n",
      "469/469 [==============================] - 18s 38ms/step - loss: 0.2809 - accuracy: 0.8971 - val_loss: 0.3510 - val_accuracy: 0.8737\n",
      "Epoch 13/20\n",
      "469/469 [==============================] - 19s 40ms/step - loss: 0.2758 - accuracy: 0.8996 - val_loss: 0.3292 - val_accuracy: 0.8852\n",
      "Epoch 14/20\n",
      "469/469 [==============================] - 18s 38ms/step - loss: 0.2685 - accuracy: 0.9019 - val_loss: 0.3211 - val_accuracy: 0.8863\n",
      "Epoch 15/20\n",
      "469/469 [==============================] - 18s 38ms/step - loss: 0.2613 - accuracy: 0.9024 - val_loss: 0.3179 - val_accuracy: 0.8898\n",
      "Epoch 16/20\n",
      "469/469 [==============================] - 18s 39ms/step - loss: 0.2601 - accuracy: 0.9033 - val_loss: 0.3168 - val_accuracy: 0.8843\n",
      "Epoch 17/20\n",
      "469/469 [==============================] - 18s 39ms/step - loss: 0.2565 - accuracy: 0.9062 - val_loss: 0.3170 - val_accuracy: 0.8880\n",
      "Epoch 18/20\n",
      "469/469 [==============================] - 18s 38ms/step - loss: 0.2498 - accuracy: 0.9081 - val_loss: 0.3164 - val_accuracy: 0.8889\n",
      "Epoch 19/20\n",
      "469/469 [==============================] - 18s 38ms/step - loss: 0.2483 - accuracy: 0.9086 - val_loss: 0.3275 - val_accuracy: 0.8853\n",
      "Epoch 20/20\n",
      "469/469 [==============================] - 18s 39ms/step - loss: 0.2462 - accuracy: 0.9089 - val_loss: 0.3154 - val_accuracy: 0.8878\n",
      "Test accuracy: 0.8877999782562256\n"
     ]
    }
   ],
   "source": [
    "from keras.datasets import fashion_mnist\n",
    "from keras.models import Sequential\n",
    "from keras.layers import Dense, Dropout\n",
    "from keras.optimizers import Adam\n",
    "\n",
    "BATCH_SIZE = 128\n",
    "EPOCHS = 20\n",
    "\n",
    "(x_train, y_train), (x_test, y_test) = fashion_mnist.load_data()\n",
    "x_train = x_train.reshape((x_train.shape[0], 784))\n",
    "x_test = x_test.reshape((x_test.shape[0], 784))\n",
    "x_train = x_train.astype('float32') / 255\n",
    "x_test = x_test.astype('float32') / 255\n",
    "\n",
    "num_classes = 10\n",
    "y_train = keras.utils.to_categorical(y_train, num_classes)\n",
    "y_test = keras.utils.to_categorical(y_test, num_classes)\n",
    "\n",
    "model = Sequential()\n",
    "model.add(Dense(512, activation='relu', input_shape=(784,)))\n",
    "model.add(Dropout(0.2))\n",
    "model.add(Dense(256, activation='relu'))\n",
    "model.add(Dropout(0.2))\n",
    "model.add(Dense(num_classes, activation='softmax'))\n",
    "\n",
    "model.compile(loss='categorical_crossentropy', optimizer=Adam(), metrics=['accuracy'])\n",
    "\n",
    "model.fit(x_train, y_train, batch_size=BATCH_SIZE, epochs=EPOCHS, validation_data=(x_test, y_test))\n",
    "\n",
    "score = model.evaluate(x_test, y_test, verbose=0)\n",
    "print('Test accuracy:', score[1])\n"
   ]
  },
  {
   "cell_type": "markdown",
   "metadata": {},
   "source": [
    "NN Classifier with Conv2D and MaxPooling2D layers"
   ]
  },
  {
   "cell_type": "code",
   "execution_count": 82,
   "metadata": {},
   "outputs": [
    {
     "name": "stdout",
     "output_type": "stream",
     "text": [
      "Epoch 1/20\n",
      "469/469 [==============================] - 57s 99ms/step - loss: 0.5742 - accuracy: 0.7918 - val_loss: 0.3878 - val_accuracy: 0.8605\n",
      "Epoch 2/20\n",
      "469/469 [==============================] - 49s 103ms/step - loss: 0.3686 - accuracy: 0.8661 - val_loss: 0.3353 - val_accuracy: 0.8788\n",
      "Epoch 3/20\n",
      "469/469 [==============================] - 54s 115ms/step - loss: 0.3166 - accuracy: 0.8858 - val_loss: 0.3119 - val_accuracy: 0.8882\n",
      "Epoch 4/20\n",
      "469/469 [==============================] - 66s 141ms/step - loss: 0.2879 - accuracy: 0.8952 - val_loss: 0.2970 - val_accuracy: 0.8928\n",
      "Epoch 5/20\n",
      "469/469 [==============================] - 50s 107ms/step - loss: 0.2660 - accuracy: 0.9021 - val_loss: 0.2899 - val_accuracy: 0.8952\n",
      "Epoch 6/20\n",
      "469/469 [==============================] - 48s 103ms/step - loss: 0.2487 - accuracy: 0.9082 - val_loss: 0.2843 - val_accuracy: 0.8969\n",
      "Epoch 7/20\n",
      "469/469 [==============================] - 51s 110ms/step - loss: 0.2292 - accuracy: 0.9153 - val_loss: 0.2533 - val_accuracy: 0.9077\n",
      "Epoch 8/20\n",
      "469/469 [==============================] - 48s 102ms/step - loss: 0.2166 - accuracy: 0.9198 - val_loss: 0.2591 - val_accuracy: 0.9060\n",
      "Epoch 9/20\n",
      "469/469 [==============================] - 48s 103ms/step - loss: 0.2020 - accuracy: 0.9252 - val_loss: 0.2513 - val_accuracy: 0.9115\n",
      "Epoch 10/20\n",
      "469/469 [==============================] - 47s 101ms/step - loss: 0.1879 - accuracy: 0.9306 - val_loss: 0.2427 - val_accuracy: 0.9134\n",
      "Epoch 11/20\n",
      "469/469 [==============================] - 47s 100ms/step - loss: 0.1778 - accuracy: 0.9335 - val_loss: 0.2484 - val_accuracy: 0.9112\n",
      "Epoch 12/20\n",
      "469/469 [==============================] - 50s 106ms/step - loss: 0.1681 - accuracy: 0.9377 - val_loss: 0.2449 - val_accuracy: 0.9143\n",
      "Epoch 13/20\n",
      "469/469 [==============================] - 48s 102ms/step - loss: 0.1562 - accuracy: 0.9416 - val_loss: 0.2408 - val_accuracy: 0.9150\n",
      "Epoch 14/20\n",
      "469/469 [==============================] - 46s 99ms/step - loss: 0.1462 - accuracy: 0.9452 - val_loss: 0.2403 - val_accuracy: 0.9136\n",
      "Epoch 15/20\n",
      "469/469 [==============================] - 49s 105ms/step - loss: 0.1393 - accuracy: 0.9485 - val_loss: 0.2461 - val_accuracy: 0.9142\n",
      "Epoch 16/20\n",
      "469/469 [==============================] - 52s 111ms/step - loss: 0.1294 - accuracy: 0.9517 - val_loss: 0.2614 - val_accuracy: 0.9169\n",
      "Epoch 17/20\n",
      "469/469 [==============================] - 46s 99ms/step - loss: 0.1213 - accuracy: 0.9539 - val_loss: 0.2500 - val_accuracy: 0.9162\n",
      "Epoch 18/20\n",
      "469/469 [==============================] - 47s 101ms/step - loss: 0.1144 - accuracy: 0.9570 - val_loss: 0.2577 - val_accuracy: 0.9153\n",
      "Epoch 19/20\n",
      "469/469 [==============================] - 48s 102ms/step - loss: 0.1071 - accuracy: 0.9596 - val_loss: 0.2823 - val_accuracy: 0.9121\n",
      "Epoch 20/20\n",
      "469/469 [==============================] - 46s 99ms/step - loss: 0.0992 - accuracy: 0.9621 - val_loss: 0.2765 - val_accuracy: 0.9140\n",
      "Test accuracy: 0.9139999747276306\n"
     ]
    }
   ],
   "source": [
    "from keras.datasets import fashion_mnist\n",
    "from keras.models import Sequential\n",
    "from keras.layers import Dense, Dropout, Flatten, Conv2D, MaxPooling2D\n",
    "from keras.optimizers import Adam\n",
    "\n",
    "BATCH_SIZE = 128\n",
    "EPOCHS = 20\n",
    "\n",
    "(x_train, y_train), (x_test, y_test) = fashion_mnist.load_data()\n",
    "x_train = x_train.reshape((x_train.shape[0], 28, 28, 1))\n",
    "x_test = x_test.reshape((x_test.shape[0], 28, 28, 1))\n",
    "x_train = x_train.astype('float32') / 255\n",
    "x_test = x_test.astype('float32') / 255\n",
    "\n",
    "num_classes = 10\n",
    "y_train = keras.utils.to_categorical(y_train, num_classes)\n",
    "y_test = keras.utils.to_categorical(y_test, num_classes)\n",
    "\n",
    "model = Sequential()\n",
    "model.add(Conv2D(32, kernel_size=(3, 3), activation='relu', input_shape=(28, 28, 1)))\n",
    "model.add(MaxPooling2D(pool_size=(2, 2)))\n",
    "model.add(Conv2D(64, kernel_size=(3, 3), activation='relu'))\n",
    "model.add(MaxPooling2D(pool_size=(2, 2)))\n",
    "model.add(Flatten())\n",
    "model.add(Dense(128, activation='relu'))\n",
    "model.add(Dropout(0.2))\n",
    "model.add(Dense(num_classes, activation='softmax'))\n",
    "\n",
    "model.compile(loss='categorical_crossentropy', optimizer=Adam(), metrics=['accuracy'])\n",
    "\n",
    "model.fit(x_train, y_train, batch_size=BATCH_SIZE, epochs=EPOCHS, validation_data=(x_test, y_test))\n",
    "\n",
    "score = model.evaluate(x_test, y_test, verbose=0)\n",
    "print('Test accuracy:', score[1])\n"
   ]
  },
  {
   "cell_type": "markdown",
   "metadata": {},
   "source": [
    "#### Conclusion\n",
    "Today we have created a neural network for classifying images from the fashion mnist dataset. We used dense layers and layers that are used in creating CNN. The result was quite good. In the first case, we got 89% accuracy on the test data, and the accuracy of the second neural network was 91.3%."
   ]
  }
 ],
 "metadata": {
  "kernelspec": {
   "display_name": "Python 3",
   "language": "python",
   "name": "python3"
  },
  "language_info": {
   "codemirror_mode": {
    "name": "ipython",
    "version": 3
   },
   "file_extension": ".py",
   "mimetype": "text/x-python",
   "name": "python",
   "nbconvert_exporter": "python",
   "pygments_lexer": "ipython3",
   "version": "3.10.10"
  },
  "orig_nbformat": 4
 },
 "nbformat": 4,
 "nbformat_minor": 2
}
