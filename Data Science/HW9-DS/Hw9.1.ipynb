{
 "cells": [
  {
   "cell_type": "code",
   "execution_count": 8,
   "metadata": {},
   "outputs": [],
   "source": [
    "import numpy as np\n",
    "from matplotlib import pyplot as plt\n",
    "import tensorflow as tf\n",
    "from tensorflow import keras"
   ]
  },
  {
   "cell_type": "code",
   "execution_count": 4,
   "metadata": {},
   "outputs": [],
   "source": [
    "data = tf.keras.datasets.fashion_mnist.load_data()"
   ]
  },
  {
   "cell_type": "code",
   "execution_count": 5,
   "metadata": {},
   "outputs": [],
   "source": [
    "(x_train, y_train), (x_test, y_test) = data"
   ]
  },
  {
   "cell_type": "markdown",
   "metadata": {},
   "source": [
    "Output of the first image from the dataset"
   ]
  },
  {
   "cell_type": "code",
   "execution_count": 6,
   "metadata": {},
   "outputs": [
    {
     "data": {
      "image/png": "[encoded data removed]",
      "text/plain": [
       "<Figure size 800x800 with 1 Axes>"
      ]
     },
     "metadata": {},
     "output_type": "display_data"
    }
   ],
   "source": [
    "plt.figure(figsize=[8,8])\n",
    "plt.subplot(1,2,1)\n",
    "plt.imshow(x_train[1,:,:], cmap='gray')\n",
    "plt.show()"
   ]
  },
  {
   "cell_type": "code",
   "execution_count": 32,
   "metadata": {},
   "outputs": [
    {
     "name": "stdout",
     "output_type": "stream",
     "text": [
      "Total number of classes :  10\n",
      "Unique labels :  [0 1 2 3 4 5 6 7 8 9]\n"
     ]
    }
   ],
   "source": [
    "unique_labels = np.unique(y_train)\n",
    "\n",
    "num_classes = len(unique_labels)\n",
    "\n",
    "print('Total number of classes : ', num_classes)\n",
    "print('Unique labels : ', unique_labels)"
   ]
  },
  {
   "cell_type": "markdown",
   "metadata": {},
   "source": [
    "### Creating a neural network models"
   ]
  },
  {
   "cell_type": "markdown",
   "metadata": {},
   "source": [
    "NN Classifier with Dense layers"
   ]
  },
  {
   "cell_type": "code",
   "execution_count": 44,
   "metadata": {},
   "outputs": [
    {
     "name": "stdout",
     "output_type": "stream",
     "text": [
      "Epoch 1/25\n",
      "1875/1875 [==============================] - 55s 22ms/step - loss: 0.5000 - accuracy: 0.8243 - val_loss: 0.4210 - val_accuracy: 0.8516\n",
      "Epoch 2/25\n",
      "1875/1875 [==============================] - 40s 21ms/step - loss: 0.3725 - accuracy: 0.8671 - val_loss: 0.3685 - val_accuracy: 0.8696\n",
      "Epoch 3/25\n",
      "1875/1875 [==============================] - 40s 21ms/step - loss: 0.3348 - accuracy: 0.8796 - val_loss: 0.3835 - val_accuracy: 0.8661\n",
      "Epoch 4/25\n",
      "1875/1875 [==============================] - 40s 21ms/step - loss: 0.3106 - accuracy: 0.8887 - val_loss: 0.3796 - val_accuracy: 0.8703\n",
      "Epoch 5/25\n",
      "1875/1875 [==============================] - 41s 22ms/step - loss: 0.2938 - accuracy: 0.8940 - val_loss: 0.3559 - val_accuracy: 0.8793\n",
      "Epoch 6/25\n",
      "1875/1875 [==============================] - 41s 22ms/step - loss: 0.2798 - accuracy: 0.9003 - val_loss: 0.3354 - val_accuracy: 0.8865\n",
      "Epoch 7/25\n",
      "1875/1875 [==============================] - 40s 21ms/step - loss: 0.2689 - accuracy: 0.9050 - val_loss: 0.3618 - val_accuracy: 0.8794\n",
      "Epoch 8/25\n",
      "1875/1875 [==============================] - 39s 21ms/step - loss: 0.2582 - accuracy: 0.9077 - val_loss: 0.3606 - val_accuracy: 0.8823\n",
      "Epoch 9/25\n",
      "1875/1875 [==============================] - 39s 21ms/step - loss: 0.2481 - accuracy: 0.9115 - val_loss: 0.3798 - val_accuracy: 0.8768\n",
      "Epoch 10/25\n",
      "1875/1875 [==============================] - 40s 21ms/step - loss: 0.2390 - accuracy: 0.9143 - val_loss: 0.3486 - val_accuracy: 0.8869\n",
      "Epoch 11/25\n",
      "1875/1875 [==============================] - 41s 22ms/step - loss: 0.2329 - accuracy: 0.9171 - val_loss: 0.3535 - val_accuracy: 0.8894\n",
      "Epoch 12/25\n",
      "1875/1875 [==============================] - 43s 23ms/step - loss: 0.2261 - accuracy: 0.9192 - val_loss: 0.3435 - val_accuracy: 0.8886\n",
      "Epoch 13/25\n",
      "1875/1875 [==============================] - 39s 21ms/step - loss: 0.2201 - accuracy: 0.9215 - val_loss: 0.3815 - val_accuracy: 0.8772\n",
      "Epoch 14/25\n",
      "1875/1875 [==============================] - 39s 21ms/step - loss: 0.2119 - accuracy: 0.9240 - val_loss: 0.3649 - val_accuracy: 0.8891\n",
      "Epoch 15/25\n",
      "1875/1875 [==============================] - 37s 20ms/step - loss: 0.2037 - accuracy: 0.9276 - val_loss: 0.3725 - val_accuracy: 0.8881\n",
      "Epoch 16/25\n",
      "1875/1875 [==============================] - 35s 19ms/step - loss: 0.1983 - accuracy: 0.9290 - val_loss: 0.3863 - val_accuracy: 0.8874\n",
      "Epoch 17/25\n",
      "1875/1875 [==============================] - 35s 19ms/step - loss: 0.1935 - accuracy: 0.9312 - val_loss: 0.3805 - val_accuracy: 0.8900\n",
      "Epoch 18/25\n",
      "1875/1875 [==============================] - 36s 19ms/step - loss: 0.1875 - accuracy: 0.9326 - val_loss: 0.3813 - val_accuracy: 0.8914\n",
      "Epoch 19/25\n",
      "1875/1875 [==============================] - 35s 19ms/step - loss: 0.1856 - accuracy: 0.9340 - val_loss: 0.4031 - val_accuracy: 0.8890\n",
      "Epoch 20/25\n",
      "1875/1875 [==============================] - 36s 19ms/step - loss: 0.1819 - accuracy: 0.9356 - val_loss: 0.3986 - val_accuracy: 0.8859\n",
      "Epoch 21/25\n",
      "1875/1875 [==============================] - 36s 19ms/step - loss: 0.1788 - accuracy: 0.9368 - val_loss: 0.4009 - val_accuracy: 0.8898\n",
      "Epoch 22/25\n",
      "1875/1875 [==============================] - 38s 21ms/step - loss: 0.1750 - accuracy: 0.9371 - val_loss: 0.4253 - val_accuracy: 0.8871\n",
      "Epoch 23/25\n",
      "1875/1875 [==============================] - 39s 21ms/step - loss: 0.1722 - accuracy: 0.9390 - val_loss: 0.4278 - val_accuracy: 0.8856\n",
      "Epoch 24/25\n",
      "1875/1875 [==============================] - 39s 21ms/step - loss: 0.1661 - accuracy: 0.9405 - val_loss: 0.4063 - val_accuracy: 0.8853\n",
      "Epoch 25/25\n",
      "1875/1875 [==============================] - 39s 21ms/step - loss: 0.1622 - accuracy: 0.9421 - val_loss: 0.4372 - val_accuracy: 0.8905\n",
      "Test accuracy: 0.890500009059906\n"
     ]
    }
   ],
   "source": [
    "from keras.datasets import fashion_mnist\n",
    "from keras.models import Sequential\n",
    "from keras.layers import Dense, Dropout, BatchNormalization\n",
    "from keras.optimizers import RMSprop\n",
    "\n",
    "BATCH_SIZE = 32\n",
    "EPOCHS = 25\n",
    "\n",
    "(x_train, y_train), (x_test, y_test) = fashion_mnist.load_data()\n",
    "x_train = x_train.reshape((x_train.shape[0], 784))\n",
    "x_test = x_test.reshape((x_test.shape[0], 784))\n",
    "x_train = x_train.astype('float32') / 255\n",
    "x_test = x_test.astype('float32') / 255\n",
    "\n",
    "num_classes = 10\n",
    "y_train = keras.utils.to_categorical(y_train, num_classes)\n",
    "y_test = keras.utils.to_categorical(y_test, num_classes)\n",
    "\n",
    "model = Sequential()\n",
    "model.add(Dense(512, activation='relu', input_shape=(784,)))\n",
    "model.add(BatchNormalization())\n",
    "model.add(Dense(256, activation='relu', ))\n",
    "model.add(Dropout(0.2))\n",
    "model.add(Dense(num_classes, activation='softmax'))\n",
    "\n",
    "model.compile(loss='categorical_crossentropy', optimizer=RMSprop(learning_rate=1e-4), metrics=['accuracy'])\n",
    "\n",
    "model.fit(x_train, y_train, batch_size=BATCH_SIZE, epochs=EPOCHS, validation_data=(x_test, y_test))\n",
    "\n",
    "score = model.evaluate(x_test, y_test, verbose=0)\n",
    "print('Test accuracy:', score[1])"
   ]
  },
  {
   "cell_type": "markdown",
   "metadata": {},
   "source": [
    "NN Classifier with Conv2D and MaxPooling2D layers"
   ]
  },
  {
   "cell_type": "code",
   "execution_count": 9,
   "metadata": {},
   "outputs": [
    {
     "name": "stdout",
     "output_type": "stream",
     "text": [
      "Epoch 1/20\n",
      "938/938 [==============================] - 48s 49ms/step - loss: 0.5172 - accuracy: 0.8114 - val_loss: 0.3879 - val_accuracy: 0.8566\n",
      "Epoch 2/20\n",
      "938/938 [==============================] - 42s 45ms/step - loss: 0.3348 - accuracy: 0.8791 - val_loss: 0.3191 - val_accuracy: 0.8860\n",
      "Epoch 3/20\n",
      "938/938 [==============================] - 41s 44ms/step - loss: 0.2912 - accuracy: 0.8933 - val_loss: 0.2920 - val_accuracy: 0.8946\n",
      "Epoch 4/20\n",
      "938/938 [==============================] - 42s 45ms/step - loss: 0.2580 - accuracy: 0.9038 - val_loss: 0.2785 - val_accuracy: 0.8967\n",
      "Epoch 5/20\n",
      "938/938 [==============================] - 43s 46ms/step - loss: 0.2346 - accuracy: 0.9139 - val_loss: 0.2634 - val_accuracy: 0.9026\n",
      "Epoch 6/20\n",
      "938/938 [==============================] - 48s 51ms/step - loss: 0.2157 - accuracy: 0.9194 - val_loss: 0.2556 - val_accuracy: 0.9094\n",
      "Epoch 7/20\n",
      "938/938 [==============================] - 41s 44ms/step - loss: 0.1970 - accuracy: 0.9269 - val_loss: 0.2516 - val_accuracy: 0.9087\n",
      "Epoch 8/20\n",
      "938/938 [==============================] - 44s 47ms/step - loss: 0.1831 - accuracy: 0.9310 - val_loss: 0.2438 - val_accuracy: 0.9147\n",
      "Epoch 9/20\n",
      "938/938 [==============================] - 41s 44ms/step - loss: 0.1672 - accuracy: 0.9382 - val_loss: 0.2427 - val_accuracy: 0.9124\n",
      "Epoch 10/20\n",
      "938/938 [==============================] - 42s 44ms/step - loss: 0.1572 - accuracy: 0.9413 - val_loss: 0.2557 - val_accuracy: 0.9118\n",
      "Epoch 11/20\n",
      "938/938 [==============================] - 42s 45ms/step - loss: 0.1424 - accuracy: 0.9465 - val_loss: 0.2636 - val_accuracy: 0.9131\n",
      "Epoch 12/20\n",
      "938/938 [==============================] - 42s 45ms/step - loss: 0.1327 - accuracy: 0.9499 - val_loss: 0.2730 - val_accuracy: 0.9138\n",
      "Epoch 13/20\n",
      "938/938 [==============================] - 42s 45ms/step - loss: 0.1227 - accuracy: 0.9532 - val_loss: 0.2776 - val_accuracy: 0.9146\n",
      "Epoch 14/20\n",
      "938/938 [==============================] - 43s 45ms/step - loss: 0.1137 - accuracy: 0.9567 - val_loss: 0.2672 - val_accuracy: 0.9165\n",
      "Epoch 15/20\n",
      "938/938 [==============================] - 43s 46ms/step - loss: 0.1050 - accuracy: 0.9599 - val_loss: 0.2760 - val_accuracy: 0.9152\n",
      "Epoch 16/20\n",
      "938/938 [==============================] - 42s 45ms/step - loss: 0.1010 - accuracy: 0.9618 - val_loss: 0.3054 - val_accuracy: 0.9146\n",
      "Epoch 17/20\n",
      "938/938 [==============================] - 43s 45ms/step - loss: 0.0910 - accuracy: 0.9653 - val_loss: 0.3060 - val_accuracy: 0.9093\n",
      "Epoch 18/20\n",
      "938/938 [==============================] - 42s 44ms/step - loss: 0.0857 - accuracy: 0.9675 - val_loss: 0.3138 - val_accuracy: 0.9186\n",
      "Epoch 19/20\n",
      "938/938 [==============================] - 41s 43ms/step - loss: 0.0797 - accuracy: 0.9697 - val_loss: 0.3123 - val_accuracy: 0.9188\n",
      "Epoch 20/20\n",
      "938/938 [==============================] - 42s 44ms/step - loss: 0.0753 - accuracy: 0.9711 - val_loss: 0.3534 - val_accuracy: 0.9104\n",
      "Test accuracy: 0.9103999733924866\n"
     ]
    }
   ],
   "source": [
    "from keras.datasets import fashion_mnist\n",
    "from keras.models import Sequential\n",
    "from keras.layers import Dense, Dropout, Flatten, Conv2D, MaxPooling2D\n",
    "from keras.optimizers import Adam\n",
    "\n",
    "BATCH_SIZE = 64\n",
    "EPOCHS = 20\n",
    "\n",
    "(x_train, y_train), (x_test, y_test) = fashion_mnist.load_data()\n",
    "x_train = x_train.reshape((x_train.shape[0], 28, 28, 1))\n",
    "x_test = x_test.reshape((x_test.shape[0], 28, 28, 1))\n",
    "x_train = x_train.astype('float32') / 255\n",
    "x_test = x_test.astype('float32') / 255\n",
    "\n",
    "num_classes = 10\n",
    "y_train = keras.utils.to_categorical(y_train, num_classes)\n",
    "y_test = keras.utils.to_categorical(y_test, num_classes)\n",
    "\n",
    "model = Sequential()\n",
    "model.add(Conv2D(32, kernel_size=(3, 3), activation='relu', input_shape=(28, 28, 1)))\n",
    "model.add(MaxPooling2D(pool_size=(2, 2)))\n",
    "model.add(Conv2D(64, kernel_size=(3, 3), activation='relu'))\n",
    "model.add(MaxPooling2D(pool_size=(2, 2)))\n",
    "model.add(Flatten())\n",
    "model.add(Dense(128, activation='relu'))\n",
    "model.add(Dropout(0.2))\n",
    "model.add(Dense(num_classes, activation='softmax'))\n",
    "\n",
    "model.compile(loss='categorical_crossentropy', optimizer=Adam(), metrics=['accuracy'])\n",
    "\n",
    "model.fit(x_train, y_train, batch_size=BATCH_SIZE, epochs=EPOCHS, validation_data=(x_test, y_test))\n",
    "\n",
    "score = model.evaluate(x_test, y_test, verbose=0)\n",
    "print('Test accuracy:', score[1])\n"
   ]
  },
  {
   "cell_type": "markdown",
   "metadata": {},
   "source": [
    "#### Conclusion\n",
    "Today we have created a neural network for classifying images from the fashion mnist dataset. We used dense layers and layers that are used in creating CNN. The result was quite good. In the first case, we got 89% accuracy on the test data, and the accuracy of the second neural network was 91.3%."
   ]
  }
 ],
 "metadata": {
  "kernelspec": {
   "display_name": "Python 3",
   "language": "python",
   "name": "python3"
  },
  "language_info": {
   "codemirror_mode": {
    "name": "ipython",
    "version": 3
   },
   "file_extension": ".py",
   "mimetype": "text/x-python",
   "name": "python",
   "nbconvert_exporter": "python",
   "pygments_lexer": "ipython3",
   "version": "3.10.10"
  },
  "orig_nbformat": 4
 },
 "nbformat": 4,
 "nbformat_minor": 2
}
