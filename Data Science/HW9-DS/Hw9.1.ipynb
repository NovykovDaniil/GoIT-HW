{
 "cells": [
  {
   "cell_type": "code",
   "execution_count": 55,
   "metadata": {},
   "outputs": [],
   "source": [
    "from matplotlib import pyplot as plt\n",
    "import tensorflow as tf\n",
    "from sklearn.utils import shuffle\n",
    "\n",
    "from keras.models import Sequential\n",
    "from keras.layers import Dense, Dropout\n",
    "from keras.optimizers import Adamax\n",
    "from keras.callbacks import EarlyStopping, LearningRateScheduler"
   ]
  },
  {
   "cell_type": "code",
   "execution_count": 37,
   "metadata": {},
   "outputs": [],
   "source": [
    "BATCH_SIZE = 64\n",
    "EPOCHS = 100"
   ]
  },
  {
   "cell_type": "code",
   "execution_count": 38,
   "metadata": {},
   "outputs": [],
   "source": [
    "data = tf.keras.datasets.fashion_mnist.load_data()"
   ]
  },
  {
   "cell_type": "code",
   "execution_count": 39,
   "metadata": {},
   "outputs": [],
   "source": [
    "(x_train, y_train), (x_test, y_test) = data"
   ]
  },
  {
   "cell_type": "code",
   "execution_count": 40,
   "metadata": {},
   "outputs": [
    {
     "data": {
      "image/png": "[encoded data removed]",
      "text/plain": [
       "<Figure size 400x400 with 2 Axes>"
      ]
     },
     "metadata": {},
     "output_type": "display_data"
    }
   ],
   "source": [
    "plt.figure(figsize=[4, 4])\n",
    "plt.imshow(x_train[1])\n",
    "plt.colorbar()\n",
    "plt.grid(False)"
   ]
  },
  {
   "cell_type": "code",
   "execution_count": 41,
   "metadata": {},
   "outputs": [
    {
     "data": {
      "image/png": "[encoded data removed]",
      "text/plain": [
       "<Figure size 800x800 with 1 Axes>"
      ]
     },
     "metadata": {},
     "output_type": "display_data"
    }
   ],
   "source": [
    "plt.figure(figsize=[8, 8])\n",
    "plt.subplot(1,2,1)\n",
    "plt.imshow(x_train[1,:,:], cmap='gray')\n",
    "plt.show()"
   ]
  },
  {
   "cell_type": "code",
   "execution_count": 45,
   "metadata": {},
   "outputs": [],
   "source": [
    "x_train = x_train.reshape(-1, 784) / 255.\n",
    "x_test = x_test.reshape(-1, 784) / 255."
   ]
  },
  {
   "cell_type": "code",
   "execution_count": 46,
   "metadata": {},
   "outputs": [],
   "source": [
    "(x_train, y_train), (x_test, y_test) = (shuffle(x_train, y_train), shuffle(x_test, y_test))"
   ]
  },
  {
   "cell_type": "code",
   "execution_count": 47,
   "metadata": {},
   "outputs": [
    {
     "data": {
      "text/plain": [
       "(((60000, 784), (60000,)), ((10000, 784), (10000,)))"
      ]
     },
     "execution_count": 47,
     "metadata": {},
     "output_type": "execute_result"
    }
   ],
   "source": [
    "(x_train.shape, y_train.shape), (x_test.shape, y_test.shape)"
   ]
  },
  {
   "cell_type": "markdown",
   "metadata": {},
   "source": [
    "### Creating a neural network models"
   ]
  },
  {
   "cell_type": "code",
   "execution_count": 58,
   "metadata": {},
   "outputs": [],
   "source": [
    "model = Sequential()\n",
    "model.add(Dense(512, activation='relu', input_shape=(784,)))\n",
    "model.add(Dense(256, activation='relu', ))\n",
    "model.add(Dropout(0.1))\n",
    "model.add(Dense(128, activation='relu', ))\n",
    "model.add(Dropout(0.2))\n",
    "model.add(Dense(10, activation='softmax'))"
   ]
  },
  {
   "cell_type": "code",
   "execution_count": 59,
   "metadata": {},
   "outputs": [],
   "source": [
    "model.compile(loss='sparse_categorical_crossentropy', optimizer=Adamax(learning_rate=1e-3), metrics=['accuracy'])"
   ]
  },
  {
   "cell_type": "code",
   "execution_count": 60,
   "metadata": {},
   "outputs": [],
   "source": [
    "def scheduler(epoch, lr):\n",
    "  if epoch < 10:\n",
    "    return lr\n",
    "  else:\n",
    "    return lr * tf.math.exp(-0.1)"
   ]
  },
  {
   "cell_type": "code",
   "execution_count": 61,
   "metadata": {},
   "outputs": [
    {
     "name": "stdout",
     "output_type": "stream",
     "text": [
      "Epoch 1/100\n",
      "938/938 [==============================] - 32s 26ms/step - loss: 0.5454 - accuracy: 0.8065 - val_loss: 0.4495 - val_accuracy: 0.8385 - lr: 0.0010\n",
      "Epoch 2/100\n",
      "938/938 [==============================] - 19s 20ms/step - loss: 0.3887 - accuracy: 0.8598 - val_loss: 0.3892 - val_accuracy: 0.8621 - lr: 0.0010\n",
      "Epoch 3/100\n",
      "938/938 [==============================] - 26s 28ms/step - loss: 0.3465 - accuracy: 0.8745 - val_loss: 0.3671 - val_accuracy: 0.8683 - lr: 0.0010\n",
      "Epoch 4/100\n",
      "938/938 [==============================] - 23s 25ms/step - loss: 0.3212 - accuracy: 0.8822 - val_loss: 0.3548 - val_accuracy: 0.8715 - lr: 0.0010\n",
      "Epoch 5/100\n",
      "938/938 [==============================] - 20s 22ms/step - loss: 0.2994 - accuracy: 0.8910 - val_loss: 0.3357 - val_accuracy: 0.8774 - lr: 0.0010\n",
      "Epoch 6/100\n",
      "938/938 [==============================] - 19s 21ms/step - loss: 0.2845 - accuracy: 0.8959 - val_loss: 0.3488 - val_accuracy: 0.8768 - lr: 0.0010\n",
      "Epoch 7/100\n",
      "938/938 [==============================] - 18s 20ms/step - loss: 0.2691 - accuracy: 0.9005 - val_loss: 0.3242 - val_accuracy: 0.8821 - lr: 0.0010\n",
      "Epoch 8/100\n",
      "938/938 [==============================] - 19s 20ms/step - loss: 0.2568 - accuracy: 0.9048 - val_loss: 0.3293 - val_accuracy: 0.8789 - lr: 0.0010\n",
      "Epoch 9/100\n",
      "938/938 [==============================] - 20s 22ms/step - loss: 0.2440 - accuracy: 0.9096 - val_loss: 0.3181 - val_accuracy: 0.8848 - lr: 0.0010\n",
      "Epoch 10/100\n",
      "938/938 [==============================] - 19s 20ms/step - loss: 0.2338 - accuracy: 0.9122 - val_loss: 0.3145 - val_accuracy: 0.8884 - lr: 0.0010\n",
      "Epoch 11/100\n",
      "938/938 [==============================] - 17s 18ms/step - loss: 0.2215 - accuracy: 0.9167 - val_loss: 0.3195 - val_accuracy: 0.8865 - lr: 9.0484e-04\n",
      "Epoch 12/100\n",
      "938/938 [==============================] - 19s 20ms/step - loss: 0.2105 - accuracy: 0.9216 - val_loss: 0.3171 - val_accuracy: 0.8889 - lr: 8.1873e-04\n",
      "Epoch 13/100\n",
      "938/938 [==============================] - 18s 19ms/step - loss: 0.1988 - accuracy: 0.9255 - val_loss: 0.3192 - val_accuracy: 0.8880 - lr: 7.4082e-04\n",
      "Epoch 14/100\n",
      "938/938 [==============================] - 22s 24ms/step - loss: 0.1875 - accuracy: 0.9298 - val_loss: 0.3123 - val_accuracy: 0.8926 - lr: 6.7032e-04\n",
      "Epoch 15/100\n",
      "938/938 [==============================] - 22s 24ms/step - loss: 0.1791 - accuracy: 0.9324 - val_loss: 0.3061 - val_accuracy: 0.8966 - lr: 6.0653e-04\n",
      "Epoch 16/100\n",
      "938/938 [==============================] - 21s 23ms/step - loss: 0.1698 - accuracy: 0.9366 - val_loss: 0.3328 - val_accuracy: 0.8936 - lr: 5.4881e-04\n",
      "Epoch 17/100\n",
      "938/938 [==============================] - 22s 23ms/step - loss: 0.1628 - accuracy: 0.9388 - val_loss: 0.3173 - val_accuracy: 0.8969 - lr: 4.9659e-04\n",
      "Epoch 18/100\n",
      "938/938 [==============================] - 29s 30ms/step - loss: 0.1549 - accuracy: 0.9430 - val_loss: 0.3209 - val_accuracy: 0.8953 - lr: 4.4933e-04\n",
      "Epoch 19/100\n",
      "938/938 [==============================] - 21s 23ms/step - loss: 0.1487 - accuracy: 0.9441 - val_loss: 0.3098 - val_accuracy: 0.9007 - lr: 4.0657e-04\n",
      "Epoch 20/100\n",
      "938/938 [==============================] - 22s 23ms/step - loss: 0.1419 - accuracy: 0.9476 - val_loss: 0.3194 - val_accuracy: 0.8979 - lr: 3.6788e-04\n",
      "Epoch 21/100\n",
      "938/938 [==============================] - 22s 23ms/step - loss: 0.1364 - accuracy: 0.9491 - val_loss: 0.3181 - val_accuracy: 0.9003 - lr: 3.3287e-04\n",
      "Epoch 22/100\n",
      "938/938 [==============================] - 21s 22ms/step - loss: 0.1300 - accuracy: 0.9522 - val_loss: 0.3298 - val_accuracy: 0.8977 - lr: 3.0119e-04\n",
      "Epoch 23/100\n",
      "938/938 [==============================] - 20s 21ms/step - loss: 0.1247 - accuracy: 0.9548 - val_loss: 0.3337 - val_accuracy: 0.8994 - lr: 2.7253e-04\n",
      "Epoch 24/100\n",
      "938/938 [==============================] - 22s 23ms/step - loss: 0.1200 - accuracy: 0.9567 - val_loss: 0.3219 - val_accuracy: 0.9019 - lr: 2.4660e-04\n",
      "Epoch 25/100\n",
      "938/938 [==============================] - 20s 22ms/step - loss: 0.1151 - accuracy: 0.9579 - val_loss: 0.3364 - val_accuracy: 0.9029 - lr: 2.2313e-04\n",
      "Epoch 26/100\n",
      "938/938 [==============================] - 21s 22ms/step - loss: 0.1124 - accuracy: 0.9592 - val_loss: 0.3309 - val_accuracy: 0.9038 - lr: 2.0190e-04\n",
      "Epoch 27/100\n",
      "938/938 [==============================] - 25s 26ms/step - loss: 0.1078 - accuracy: 0.9606 - val_loss: 0.3410 - val_accuracy: 0.9023 - lr: 1.8268e-04\n",
      "Epoch 28/100\n",
      "938/938 [==============================] - 18s 19ms/step - loss: 0.1036 - accuracy: 0.9622 - val_loss: 0.3420 - val_accuracy: 0.9012 - lr: 1.6530e-04\n",
      "Epoch 29/100\n",
      "938/938 [==============================] - 18s 19ms/step - loss: 0.1019 - accuracy: 0.9629 - val_loss: 0.3402 - val_accuracy: 0.9038 - lr: 1.4957e-04\n",
      "Epoch 30/100\n",
      "938/938 [==============================] - 15s 16ms/step - loss: 0.0985 - accuracy: 0.9643 - val_loss: 0.3498 - val_accuracy: 0.9018 - lr: 1.3534e-04\n",
      "Epoch 31/100\n",
      "938/938 [==============================] - 24s 26ms/step - loss: 0.0956 - accuracy: 0.9662 - val_loss: 0.3450 - val_accuracy: 0.9034 - lr: 1.2246e-04\n",
      "Epoch 32/100\n",
      "938/938 [==============================] - 16s 17ms/step - loss: 0.0938 - accuracy: 0.9655 - val_loss: 0.3500 - val_accuracy: 0.9017 - lr: 1.1080e-04\n",
      "Epoch 33/100\n",
      "938/938 [==============================] - 18s 20ms/step - loss: 0.0911 - accuracy: 0.9679 - val_loss: 0.3497 - val_accuracy: 0.9012 - lr: 1.0026e-04\n",
      "Epoch 34/100\n",
      "938/938 [==============================] - 16s 17ms/step - loss: 0.0897 - accuracy: 0.9678 - val_loss: 0.3543 - val_accuracy: 0.9016 - lr: 9.0718e-05\n",
      "Epoch 35/100\n",
      "938/938 [==============================] - 23s 25ms/step - loss: 0.0882 - accuracy: 0.9683 - val_loss: 0.3534 - val_accuracy: 0.9051 - lr: 8.2085e-05\n",
      "Epoch 36/100\n",
      "938/938 [==============================] - 18s 20ms/step - loss: 0.0855 - accuracy: 0.9695 - val_loss: 0.3507 - val_accuracy: 0.9040 - lr: 7.4274e-05\n",
      "Epoch 37/100\n",
      "938/938 [==============================] - 17s 18ms/step - loss: 0.0840 - accuracy: 0.9704 - val_loss: 0.3556 - val_accuracy: 0.9032 - lr: 6.7206e-05\n",
      "Epoch 38/100\n",
      "938/938 [==============================] - 15s 16ms/step - loss: 0.0824 - accuracy: 0.9710 - val_loss: 0.3589 - val_accuracy: 0.9018 - lr: 6.0810e-05\n",
      "Epoch 39/100\n",
      "938/938 [==============================] - 26s 27ms/step - loss: 0.0817 - accuracy: 0.9714 - val_loss: 0.3646 - val_accuracy: 0.9015 - lr: 5.5023e-05\n",
      "Epoch 40/100\n",
      "938/938 [==============================] - 17s 19ms/step - loss: 0.0799 - accuracy: 0.9719 - val_loss: 0.3583 - val_accuracy: 0.9031 - lr: 4.9787e-05\n",
      "Epoch 41/100\n",
      "938/938 [==============================] - 19s 20ms/step - loss: 0.0801 - accuracy: 0.9715 - val_loss: 0.3638 - val_accuracy: 0.9030 - lr: 4.5049e-05\n",
      "Epoch 42/100\n",
      "938/938 [==============================] - 15s 16ms/step - loss: 0.0782 - accuracy: 0.9726 - val_loss: 0.3618 - val_accuracy: 0.9039 - lr: 4.0762e-05\n",
      "Epoch 43/100\n",
      "938/938 [==============================] - 18s 19ms/step - loss: 0.0783 - accuracy: 0.9724 - val_loss: 0.3613 - val_accuracy: 0.9027 - lr: 3.6883e-05\n",
      "Epoch 44/100\n",
      "938/938 [==============================] - 15s 16ms/step - loss: 0.0776 - accuracy: 0.9728 - val_loss: 0.3604 - val_accuracy: 0.9022 - lr: 3.3373e-05\n",
      "Epoch 45/100\n",
      "938/938 [==============================] - 16s 17ms/step - loss: 0.0759 - accuracy: 0.9735 - val_loss: 0.3650 - val_accuracy: 0.9031 - lr: 3.0197e-05\n",
      "Epoch 46/100\n",
      "938/938 [==============================] - 17s 18ms/step - loss: 0.0755 - accuracy: 0.9736 - val_loss: 0.3657 - val_accuracy: 0.9038 - lr: 2.7324e-05\n",
      "Epoch 47/100\n",
      "938/938 [==============================] - 15s 16ms/step - loss: 0.0752 - accuracy: 0.9739 - val_loss: 0.3659 - val_accuracy: 0.9040 - lr: 2.4724e-05\n",
      "Epoch 48/100\n",
      "938/938 [==============================] - 18s 19ms/step - loss: 0.0746 - accuracy: 0.9743 - val_loss: 0.3646 - val_accuracy: 0.9035 - lr: 2.2371e-05\n",
      "Epoch 49/100\n",
      "938/938 [==============================] - 14s 15ms/step - loss: 0.0744 - accuracy: 0.9739 - val_loss: 0.3659 - val_accuracy: 0.9035 - lr: 2.0242e-05\n",
      "Epoch 50/100\n",
      "938/938 [==============================] - 16s 17ms/step - loss: 0.0742 - accuracy: 0.9741 - val_loss: 0.3659 - val_accuracy: 0.9033 - lr: 1.8316e-05\n",
      "Epoch 51/100\n",
      "938/938 [==============================] - 16s 17ms/step - loss: 0.0735 - accuracy: 0.9742 - val_loss: 0.3672 - val_accuracy: 0.9031 - lr: 1.6573e-05\n",
      "Epoch 52/100\n",
      "938/938 [==============================] - 14s 15ms/step - loss: 0.0734 - accuracy: 0.9743 - val_loss: 0.3683 - val_accuracy: 0.9039 - lr: 1.4996e-05\n",
      "Epoch 53/100\n",
      "938/938 [==============================] - 16s 17ms/step - loss: 0.0730 - accuracy: 0.9747 - val_loss: 0.3693 - val_accuracy: 0.9033 - lr: 1.3569e-05\n",
      "Epoch 54/100\n",
      "938/938 [==============================] - 16s 17ms/step - loss: 0.0731 - accuracy: 0.9741 - val_loss: 0.3697 - val_accuracy: 0.9041 - lr: 1.2277e-05\n",
      "Epoch 55/100\n",
      "938/938 [==============================] - 16s 17ms/step - loss: 0.0723 - accuracy: 0.9751 - val_loss: 0.3702 - val_accuracy: 0.9038 - lr: 1.1109e-05\n",
      "Epoch 56/100\n",
      "938/938 [==============================] - 17s 18ms/step - loss: 0.0714 - accuracy: 0.9753 - val_loss: 0.3706 - val_accuracy: 0.9030 - lr: 1.0052e-05\n",
      "Epoch 57/100\n",
      "938/938 [==============================] - 14s 15ms/step - loss: 0.0718 - accuracy: 0.9752 - val_loss: 0.3707 - val_accuracy: 0.9033 - lr: 9.0953e-06\n",
      "Epoch 58/100\n",
      "938/938 [==============================] - 17s 18ms/step - loss: 0.0712 - accuracy: 0.9751 - val_loss: 0.3707 - val_accuracy: 0.9032 - lr: 8.2298e-06\n",
      "Epoch 59/100\n",
      "938/938 [==============================] - 15s 16ms/step - loss: 0.0719 - accuracy: 0.9751 - val_loss: 0.3705 - val_accuracy: 0.9032 - lr: 7.4466e-06\n",
      "Epoch 60/100\n",
      "938/938 [==============================] - 16s 17ms/step - loss: 0.0711 - accuracy: 0.9755 - val_loss: 0.3709 - val_accuracy: 0.9029 - lr: 6.7379e-06\n",
      "Epoch 61/100\n",
      "938/938 [==============================] - 16s 17ms/step - loss: 0.0712 - accuracy: 0.9758 - val_loss: 0.3707 - val_accuracy: 0.9035 - lr: 6.0967e-06\n",
      "Epoch 62/100\n",
      "938/938 [==============================] - 15s 16ms/step - loss: 0.0714 - accuracy: 0.9761 - val_loss: 0.3711 - val_accuracy: 0.9032 - lr: 5.5166e-06\n",
      "Epoch 63/100\n",
      "938/938 [==============================] - 18s 19ms/step - loss: 0.0715 - accuracy: 0.9760 - val_loss: 0.3709 - val_accuracy: 0.9034 - lr: 4.9916e-06\n",
      "Epoch 64/100\n",
      "938/938 [==============================] - 15s 16ms/step - loss: 0.0712 - accuracy: 0.9757 - val_loss: 0.3708 - val_accuracy: 0.9038 - lr: 4.5166e-06\n",
      "Epoch 65/100\n",
      "938/938 [==============================] - 17s 18ms/step - loss: 0.0708 - accuracy: 0.9757 - val_loss: 0.3710 - val_accuracy: 0.9031 - lr: 4.0868e-06\n",
      "Epoch 66/100\n",
      "938/938 [==============================] - 15s 16ms/step - loss: 0.0711 - accuracy: 0.9754 - val_loss: 0.3711 - val_accuracy: 0.9039 - lr: 3.6979e-06\n",
      "Epoch 67/100\n",
      "938/938 [==============================] - 16s 17ms/step - loss: 0.0698 - accuracy: 0.9763 - val_loss: 0.3715 - val_accuracy: 0.9036 - lr: 3.3460e-06\n",
      "Epoch 68/100\n",
      "938/938 [==============================] - 16s 17ms/step - loss: 0.0712 - accuracy: 0.9757 - val_loss: 0.3715 - val_accuracy: 0.9033 - lr: 3.0276e-06\n",
      "Epoch 69/100\n",
      "938/938 [==============================] - 15s 16ms/step - loss: 0.0703 - accuracy: 0.9758 - val_loss: 0.3719 - val_accuracy: 0.9034 - lr: 2.7394e-06\n",
      "Epoch 70/100\n",
      "938/938 [==============================] - 17s 18ms/step - loss: 0.0701 - accuracy: 0.9765 - val_loss: 0.3719 - val_accuracy: 0.9037 - lr: 2.4788e-06\n",
      "Epoch 71/100\n",
      "938/938 [==============================] - 14s 15ms/step - loss: 0.0706 - accuracy: 0.9758 - val_loss: 0.3721 - val_accuracy: 0.9038 - lr: 2.2429e-06\n",
      "Epoch 72/100\n",
      "938/938 [==============================] - 16s 17ms/step - loss: 0.0703 - accuracy: 0.9758 - val_loss: 0.3722 - val_accuracy: 0.9037 - lr: 2.0294e-06\n"
     ]
    },
    {
     "data": {
      "text/plain": [
       "<keras.src.callbacks.History at 0x1c12385b910>"
      ]
     },
     "execution_count": 61,
     "metadata": {},
     "output_type": "execute_result"
    }
   ],
   "source": [
    "early_stopping = EarlyStopping('loss', patience=5)\n",
    "lr_scheduler = LearningRateScheduler(scheduler)\n",
    "callbacks = [early_stopping, lr_scheduler]\n",
    "\n",
    "model.fit(x_train, y_train, batch_size=BATCH_SIZE, epochs=EPOCHS, validation_data=(x_test, y_test), callbacks=callbacks)"
   ]
  },
  {
   "cell_type": "code",
   "execution_count": 62,
   "metadata": {},
   "outputs": [
    {
     "name": "stdout",
     "output_type": "stream",
     "text": [
      "Test accuracy: 0.9036999940872192\n"
     ]
    }
   ],
   "source": [
    "score = model.evaluate(x_test, y_test, verbose=0)\n",
    "print('Test accuracy:', score[1])"
   ]
  },
  {
   "cell_type": "markdown",
   "metadata": {},
   "source": [
    "#### Conclusion\n",
    "Today we have created a neural network for classifying images from the fashion mnist dataset. We used dense and dropout layers. The result was quite good!  \n",
    "Accuracy on test data: 90.36%  \n",
    "Learning time: 1334s  "
   ]
  }
 ],
 "metadata": {
  "kernelspec": {
   "display_name": "Python 3",
   "language": "python",
   "name": "python3"
  },
  "language_info": {
   "codemirror_mode": {
    "name": "ipython",
    "version": 3
   },
   "file_extension": ".py",
   "mimetype": "text/x-python",
   "name": "python",
   "nbconvert_exporter": "python",
   "pygments_lexer": "ipython3",
   "version": "3.10.10"
  },
  "orig_nbformat": 4
 },
 "nbformat": 4,
 "nbformat_minor": 2
}
