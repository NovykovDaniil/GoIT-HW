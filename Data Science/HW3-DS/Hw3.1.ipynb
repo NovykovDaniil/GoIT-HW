{
 "cells": [
  {
   "cell_type": "code",
   "execution_count": 2,
   "metadata": {},
   "outputs": [],
   "source": [
    "import numpy as np\n",
    "import pandas as pd"
   ]
  },
  {
   "cell_type": "code",
   "execution_count": 3,
   "metadata": {},
   "outputs": [],
   "source": [
    "df = pd.read_csv('Housing.csv')"
   ]
  },
  {
   "cell_type": "code",
   "execution_count": 4,
   "metadata": {},
   "outputs": [],
   "source": [
    "#напишіть функцію гіпотези лінійної регресії у векторному вигляді;\n",
    "def h(X, theta):\n",
    "    return X @ theta"
   ]
  },
  {
   "cell_type": "code",
   "execution_count": 5,
   "metadata": {},
   "outputs": [],
   "source": [
    "def normalize(data):\n",
    "    \n",
    "    mean = np.mean(data)\n",
    "    value_range = np.max(data) - np.min(data)\n",
    "\n",
    "    result = []\n",
    "\n",
    "    for x in data:\n",
    "        norm_x = (x - mean) / value_range\n",
    "        result.append(norm_x)\n",
    "\n",
    "    return result"
   ]
  },
  {
   "cell_type": "code",
   "execution_count": 6,
   "metadata": {},
   "outputs": [],
   "source": [
    "norm = pd.DataFrame()\n",
    "columns = ['price', 'area', 'bedrooms', 'bathrooms']\n",
    "\n",
    "for column in columns:\n",
    "    norm[column] = normalize(df[column])"
   ]
  },
  {
   "cell_type": "code",
   "execution_count": 7,
   "metadata": {},
   "outputs": [],
   "source": [
    "#створіть функцію для обчислення функції втрат у векторному вигляді;\n",
    "def loss_function(X, y, theta):\n",
    "    n = len(y)\n",
    "   \n",
    "    predicted_price = h(X, theta)\n",
    "    \n",
    "    mse = np.sum((predicted_price - y)**2) / (2 * n)\n",
    "    \n",
    "    return mse"
   ]
  },
  {
   "cell_type": "code",
   "execution_count": 8,
   "metadata": {},
   "outputs": [],
   "source": [
    "#реалізуйте один крок градієнтного спуску;\n",
    "def gradient_descent_step(X, y, theta, learning_rate):\n",
    "\n",
    "    n = len(y)\n",
    "\n",
    "    predicted_price = h(X, theta)\n",
    "    gradient = X.T @ (predicted_price - y) / n\n",
    "\n",
    "    theta = theta - learning_rate * gradient\n",
    "\n",
    "    return theta"
   ]
  },
  {
   "cell_type": "code",
   "execution_count": 15,
   "metadata": {},
   "outputs": [],
   "source": [
    "def gradient_descent(X, y, theta, learning_rate, num_iter, epsilon):\n",
    "\n",
    "    ones = np.ones((X.shape[0], 1))\n",
    "    X = np.hstack((ones, X))\n",
    "\n",
    "    loss = loss_function(X, y, theta)\n",
    "    loss_history = [loss]\n",
    "    \n",
    "    for _ in range(num_iter):\n",
    "        theta = gradient_descent_step(X, y, theta, learning_rate)\n",
    "        \n",
    "        loss = loss_function(X, y, theta)\n",
    "        if abs(loss - loss_history[-1]) < epsilon:\n",
    "            loss_history.append(loss)\n",
    "            break\n",
    "        \n",
    "        loss_history.append(loss)\n",
    "    \n",
    "    return theta, loss_history"
   ]
  },
  {
   "cell_type": "code",
   "execution_count": 16,
   "metadata": {},
   "outputs": [
    {
     "name": "stdout",
     "output_type": "stream",
     "text": [
      "Theta: [4.97269402e-17 4.77040800e-01 1.76257986e-01 3.59958536e-01]\n"
     ]
    }
   ],
   "source": [
    "#знайдіть найкращі параметри w для датасету прогнозуючу ціну на будинок залежно від площі, кількості ванних кімнат та кількості спалень;\n",
    "X = norm[['area', 'bedrooms', 'bathrooms']].values\n",
    "y = norm['price'].values\n",
    "theta = np.array([0.0, 0.0, 0.0, 0.0])\n",
    "learning_rate = 0.001\n",
    "num_iter = 100000000\n",
    "epsilon = 0.00000000000001\n",
    "theta, loss_history = gradient_descent(X, y, theta, learning_rate, num_iter, epsilon)\n",
    "print('Theta:', theta)"
   ]
  },
  {
   "cell_type": "code",
   "execution_count": 11,
   "metadata": {},
   "outputs": [
    {
     "name": "stdout",
     "output_type": "stream",
     "text": [
      "Theta: [4.74427517e-17 4.77142690e-01 1.76112569e-01 3.60012857e-01]\n"
     ]
    }
   ],
   "source": [
    "#знайдіть ці ж параметри за допомогою аналітичного рішення;\n",
    "X = norm[['area', 'bedrooms', 'bathrooms']].values\n",
    "y = norm['price'].values\n",
    "\n",
    "X = np.concatenate((np.ones((len(X), 1)), X), axis=1)\n",
    "\n",
    "theta_analytical = np.linalg.inv(X.T @ X) @ X.T @ y\n",
    "\n",
    "print('Theta:', theta_analytical)"
   ]
  },
  {
   "cell_type": "code",
   "execution_count": 17,
   "metadata": {},
   "outputs": [
    {
     "name": "stdout",
     "output_type": "stream",
     "text": [
      "Comparing theta and theta_analytical:\n",
      "For w_0: deviation is 4.814620615887201%\n",
      "For w_1: deviation is 0.021354147009465106%\n",
      "For w_2: deviation is 0.08257090037924143%\n",
      "For w_3: deviation is 0.015088531197047507%\n",
      "--------------------------------------------------\n",
      "Table comparing theta and theta_analytical:\n",
      "           Theta                Theta_analytical    \n",
      "w_0        4.9726940200620966e-17 4.744275169668805e-17\n",
      "w_1        0.47704079982985625  0.47714268958123435 \n",
      "w_2        0.17625798646492982  0.17611256873124742 \n",
      "w_3        0.3599585359169139   0.3600128565690907  \n"
     ]
    }
   ],
   "source": [
    "#порівняйте отримані результати.\n",
    "percentage_diff = np.abs((theta - theta_analytical) / theta_analytical) * 100\n",
    "\n",
    "print(\"Comparing theta and theta_analytical:\")\n",
    "for i, diff in enumerate(percentage_diff):\n",
    "    print(f\"For w_{i}: deviation is {diff}%\")\n",
    "\n",
    "print('-' * 50)\n",
    "\n",
    "print(\"Table comparing theta and theta_analytical:\")\n",
    "header = [\"\", \"Theta\", \"Theta_analytical\"]\n",
    "table = [[f\"w_{i}\", theta[i], theta_analytical[i]] for i in range(len(theta))]\n",
    "table_format = \"{:<10} {:<20} {:<20}\"\n",
    "\n",
    "print(table_format.format(*header))\n",
    "for row in table:\n",
    "    print(table_format.format(*row))\n"
   ]
  }
 ],
 "metadata": {
  "kernelspec": {
   "display_name": "Python 3",
   "language": "python",
   "name": "python3"
  },
  "language_info": {
   "codemirror_mode": {
    "name": "ipython",
    "version": 3
   },
   "file_extension": ".py",
   "mimetype": "text/x-python",
   "name": "python",
   "nbconvert_exporter": "python",
   "pygments_lexer": "ipython3",
   "version": "3.10.10"
  },
  "orig_nbformat": 4
 },
 "nbformat": 4,
 "nbformat_minor": 2
}
