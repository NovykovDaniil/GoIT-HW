{
 "cells": [
  {
   "cell_type": "code",
   "execution_count": 1,
   "metadata": {},
   "outputs": [],
   "source": [
    "import matplotlib.pyplot as plt\n",
    "from tensorflow import keras\n",
    "\n",
    "from keras.datasets.imdb import load_data\n",
    "from keras.optimizers import Adam\n",
    "from keras.utils import pad_sequences\n",
    "from keras.models import Sequential\n",
    "from keras.layers import Embedding, Bidirectional, LSTM, Dense, Dropout"
   ]
  },
  {
   "cell_type": "code",
   "execution_count": 2,
   "metadata": {},
   "outputs": [],
   "source": [
    "max_features = 10000\n",
    "maxlen = 500\n",
    "batch_size = 32"
   ]
  },
  {
   "cell_type": "code",
   "execution_count": 3,
   "metadata": {},
   "outputs": [],
   "source": [
    "(x_train, y_train), (x_test, y_test) = load_data(num_words=max_features)"
   ]
  },
  {
   "cell_type": "code",
   "execution_count": 4,
   "metadata": {},
   "outputs": [],
   "source": [
    "x_train = pad_sequences(x_train, maxlen=maxlen)\n",
    "x_test = pad_sequences(x_test, maxlen=maxlen)"
   ]
  },
  {
   "cell_type": "code",
   "execution_count": 5,
   "metadata": {},
   "outputs": [],
   "source": [
    "brnn_model = Sequential()\n",
    "brnn_model.add(Embedding(max_features, 32))\n",
    "brnn_model.add(Dropout(0.2))\n",
    "brnn_model.add(Bidirectional(LSTM(32)))\n",
    "brnn_model.add(Dense(256, activation = \"relu\"))\n",
    "brnn_model.add(Dropout(0.2))\n",
    "brnn_model.add(Dense(1, activation='sigmoid'))"
   ]
  },
  {
   "cell_type": "code",
   "execution_count": 6,
   "metadata": {},
   "outputs": [],
   "source": [
    "brnn_model.compile(optimizer=Adam(1e-4), loss='binary_crossentropy', metrics=['acc'])"
   ]
  },
  {
   "cell_type": "code",
   "execution_count": 7,
   "metadata": {},
   "outputs": [
    {
     "name": "stdout",
     "output_type": "stream",
     "text": [
      "Epoch 1/10\n",
      "625/625 [==============================] - 212s 327ms/step - loss: 0.5970 - acc: 0.6489 - val_loss: 0.3476 - val_acc: 0.8658\n",
      "Epoch 2/10\n",
      "625/625 [==============================] - 198s 317ms/step - loss: 0.2906 - acc: 0.8809 - val_loss: 0.2858 - val_acc: 0.8824\n",
      "Epoch 3/10\n",
      "625/625 [==============================] - 197s 315ms/step - loss: 0.2208 - acc: 0.9146 - val_loss: 0.2862 - val_acc: 0.8808\n",
      "Epoch 4/10\n",
      "625/625 [==============================] - 194s 310ms/step - loss: 0.1865 - acc: 0.9295 - val_loss: 0.2837 - val_acc: 0.8896\n",
      "Epoch 5/10\n",
      "625/625 [==============================] - 195s 312ms/step - loss: 0.1576 - acc: 0.9424 - val_loss: 0.2895 - val_acc: 0.8920\n",
      "Epoch 6/10\n",
      "625/625 [==============================] - 214s 342ms/step - loss: 0.1357 - acc: 0.9515 - val_loss: 0.3017 - val_acc: 0.8906\n",
      "Epoch 7/10\n",
      "625/625 [==============================] - 193s 309ms/step - loss: 0.1207 - acc: 0.9577 - val_loss: 0.3245 - val_acc: 0.8838\n",
      "Epoch 8/10\n",
      "625/625 [==============================] - 171s 274ms/step - loss: 0.1070 - acc: 0.9633 - val_loss: 0.3321 - val_acc: 0.8886\n",
      "Epoch 9/10\n",
      "625/625 [==============================] - 237s 379ms/step - loss: 0.0950 - acc: 0.9667 - val_loss: 0.3716 - val_acc: 0.8798\n",
      "Epoch 10/10\n",
      "625/625 [==============================] - 257s 411ms/step - loss: 0.0863 - acc: 0.9707 - val_loss: 0.3952 - val_acc: 0.8830\n"
     ]
    }
   ],
   "source": [
    "brnn_history = brnn_model.fit(x_train, y_train, epochs=10, batch_size=32, validation_split=0.2)"
   ]
  },
  {
   "cell_type": "code",
   "execution_count": 8,
   "metadata": {},
   "outputs": [
    {
     "name": "stdout",
     "output_type": "stream",
     "text": [
      "782/782 [==============================] - 90s 114ms/step - loss: 0.4361 - acc: 0.8679\n",
      "Test Accuracy: 0.8678799867630005\n"
     ]
    }
   ],
   "source": [
    "test_loss, test_acc = brnn_model.evaluate(x_test, y_test)\n",
    "print('Test Accuracy: {}'.format(test_acc))"
   ]
  }
 ],
 "metadata": {
  "kernelspec": {
   "display_name": "Python 3",
   "language": "python",
   "name": "python3"
  },
  "language_info": {
   "codemirror_mode": {
    "name": "ipython",
    "version": 3
   },
   "file_extension": ".py",
   "mimetype": "text/x-python",
   "name": "python",
   "nbconvert_exporter": "python",
   "pygments_lexer": "ipython3",
   "version": "3.10.10"
  },
  "orig_nbformat": 4
 },
 "nbformat": 4,
 "nbformat_minor": 2
}
