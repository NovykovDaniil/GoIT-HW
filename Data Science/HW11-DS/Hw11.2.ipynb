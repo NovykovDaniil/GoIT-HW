{
 "cells": [
  {
   "cell_type": "code",
   "execution_count": 1,
   "metadata": {},
   "outputs": [],
   "source": [
    "import matplotlib.pyplot as plt\n",
    "from tensorflow import keras\n",
    "\n",
    "from keras.datasets.imdb import load_data\n",
    "from keras.optimizers import Adam\n",
    "from keras.utils import pad_sequences\n",
    "from keras.models import Sequential\n",
    "from keras.layers import Embedding, LSTM, Dense, Dropout"
   ]
  },
  {
   "cell_type": "code",
   "execution_count": 2,
   "metadata": {},
   "outputs": [],
   "source": [
    "max_features = 10000\n",
    "maxlen = 500\n",
    "batch_size = 32"
   ]
  },
  {
   "cell_type": "code",
   "execution_count": 3,
   "metadata": {},
   "outputs": [],
   "source": [
    "(x_train, y_train), (x_test, y_test) = load_data(num_words=max_features)"
   ]
  },
  {
   "cell_type": "code",
   "execution_count": 4,
   "metadata": {},
   "outputs": [],
   "source": [
    "x_train = pad_sequences(x_train, maxlen=maxlen)\n",
    "x_test = pad_sequences(x_test, maxlen=maxlen)"
   ]
  },
  {
   "cell_type": "code",
   "execution_count": 5,
   "metadata": {},
   "outputs": [],
   "source": [
    "lstm_model = Sequential()\n",
    "lstm_model.add(Embedding(max_features, 32))\n",
    "lstm_model.add(Dropout(0.2))\n",
    "lstm_model.add(LSTM(32))\n",
    "lstm_model.add(Dense(256, activation = \"relu\"))\n",
    "lstm_model.add(Dropout(0.2))\n",
    "lstm_model.add(Dense(1, activation='sigmoid'))"
   ]
  },
  {
   "cell_type": "code",
   "execution_count": 6,
   "metadata": {},
   "outputs": [],
   "source": [
    "lstm_model.compile(optimizer=Adam(1e-4), loss='binary_crossentropy', metrics=['acc'])"
   ]
  },
  {
   "cell_type": "code",
   "execution_count": 8,
   "metadata": {},
   "outputs": [
    {
     "name": "stdout",
     "output_type": "stream",
     "text": [
      "Epoch 1/10\n",
      "625/625 [==============================] - 138s 220ms/step - loss: 0.3794 - acc: 0.8424 - val_loss: 0.2992 - val_acc: 0.8792\n",
      "Epoch 2/10\n",
      "625/625 [==============================] - 162s 259ms/step - loss: 0.2546 - acc: 0.9003 - val_loss: 0.2733 - val_acc: 0.8900\n",
      "Epoch 3/10\n",
      "625/625 [==============================] - 139s 222ms/step - loss: 0.2076 - acc: 0.9216 - val_loss: 0.2851 - val_acc: 0.8864\n",
      "Epoch 4/10\n",
      "625/625 [==============================] - 129s 206ms/step - loss: 0.1748 - acc: 0.9373 - val_loss: 0.2704 - val_acc: 0.8928\n",
      "Epoch 5/10\n",
      "625/625 [==============================] - 176s 281ms/step - loss: 0.1513 - acc: 0.9464 - val_loss: 0.2886 - val_acc: 0.8928\n",
      "Epoch 6/10\n",
      "625/625 [==============================] - 237s 379ms/step - loss: 0.1334 - acc: 0.9541 - val_loss: 0.3028 - val_acc: 0.8952\n",
      "Epoch 7/10\n",
      "625/625 [==============================] - 235s 377ms/step - loss: 0.1175 - acc: 0.9589 - val_loss: 0.3537 - val_acc: 0.8928\n",
      "Epoch 8/10\n",
      "625/625 [==============================] - 226s 362ms/step - loss: 0.1044 - acc: 0.9654 - val_loss: 0.3550 - val_acc: 0.8870\n",
      "Epoch 9/10\n",
      "625/625 [==============================] - 228s 365ms/step - loss: 0.0950 - acc: 0.9675 - val_loss: 0.3773 - val_acc: 0.8868\n",
      "Epoch 10/10\n",
      "625/625 [==============================] - 257s 412ms/step - loss: 0.0852 - acc: 0.9711 - val_loss: 0.3928 - val_acc: 0.8872\n"
     ]
    }
   ],
   "source": [
    "lstm_history = lstm_model.fit(x_train, y_train, epochs=10, batch_size=32, validation_split=0.2)"
   ]
  },
  {
   "cell_type": "code",
   "execution_count": 9,
   "metadata": {},
   "outputs": [
    {
     "name": "stdout",
     "output_type": "stream",
     "text": [
      "782/782 [==============================] - 81s 103ms/step - loss: 0.4440 - acc: 0.8672\n",
      "Test Accuracy: 0.8671600222587585\n"
     ]
    }
   ],
   "source": [
    "test_loss, test_acc = lstm_model.evaluate(x_test, y_test)\n",
    "print('Test Accuracy: {}'.format(test_acc))"
   ]
  }
 ],
 "metadata": {
  "kernelspec": {
   "display_name": "Python 3",
   "language": "python",
   "name": "python3"
  },
  "language_info": {
   "codemirror_mode": {
    "name": "ipython",
    "version": 3
   },
   "file_extension": ".py",
   "mimetype": "text/x-python",
   "name": "python",
   "nbconvert_exporter": "python",
   "pygments_lexer": "ipython3",
   "version": "3.10.10"
  },
  "orig_nbformat": 4
 },
 "nbformat": 4,
 "nbformat_minor": 2
}
