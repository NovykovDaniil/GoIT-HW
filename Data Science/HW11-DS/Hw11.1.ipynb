{
  "cells": [
    {
      "cell_type": "code",
      "execution_count": 1,
      "metadata": {
        "id": "hbXF2qs1qxIQ"
      },
      "outputs": [],
      "source": [
        "import matplotlib.pyplot as plt\n",
        "from tensorflow import keras\n",
        "\n",
        "from keras.datasets.imdb import load_data\n",
        "from keras.optimizers import Adam\n",
        "from keras.utils import pad_sequences\n",
        "from keras.models import Sequential\n",
        "from keras.layers import Embedding, SimpleRNN, Dense, Dropout"
      ]
    },
    {
      "cell_type": "code",
      "execution_count": 2,
      "metadata": {
        "id": "0oJ8QVS_rmV2"
      },
      "outputs": [],
      "source": [
        "max_features = 10000\n",
        "maxlen = 500\n",
        "batch_size = 32"
      ]
    },
    {
      "cell_type": "code",
      "execution_count": 3,
      "metadata": {
        "colab": {
          "base_uri": "https://localhost:8080/"
        },
        "id": "Y4VwbP3IrWr5",
        "outputId": "f98494f8-8b01-40b9-e2e9-61340e42e10c"
      },
      "outputs": [],
      "source": [
        "(x_train, y_train), (x_test, y_test) = load_data(num_words=max_features)"
      ]
    },
    {
      "cell_type": "code",
      "execution_count": 4,
      "metadata": {
        "id": "5k8rskP-ruJj"
      },
      "outputs": [],
      "source": [
        "x_train = pad_sequences(x_train, maxlen=maxlen)\n",
        "x_test = pad_sequences(x_test, maxlen=maxlen)"
      ]
    },
    {
      "cell_type": "code",
      "execution_count": 12,
      "metadata": {
        "colab": {
          "base_uri": "https://localhost:8080/"
        },
        "id": "We30qJizsDLZ",
        "outputId": "e19e5dc6-0728-4781-c111-38f23c33c3e0"
      },
      "outputs": [],
      "source": [
        "rnn_model = Sequential()\n",
        "rnn_model.add(Embedding(max_features, 32))\n",
        "rnn_model.add(SimpleRNN(32, input_shape = (max_features, maxlen), return_sequences = False, activation = \"relu\"))\n",
        "rnn_model.add(Dense(256, activation = \"relu\"))\n",
        "rnn_model.add(Dropout(0.2))\n",
        "rnn_model.add(Dense(1, activation='sigmoid'))"
      ]
    },
    {
      "cell_type": "code",
      "execution_count": 13,
      "metadata": {},
      "outputs": [],
      "source": [
        "rnn_model.compile(optimizer=Adam(1e-4), loss='binary_crossentropy', metrics=['acc'])"
      ]
    },
    {
      "cell_type": "code",
      "execution_count": 14,
      "metadata": {},
      "outputs": [
        {
          "name": "stdout",
          "output_type": "stream",
          "text": [
            "Epoch 1/5\n",
            "196/196 [==============================] - 34s 166ms/step - loss: 0.6926 - acc: 0.5284\n",
            "Epoch 2/5\n",
            "196/196 [==============================] - 30s 151ms/step - loss: 0.6873 - acc: 0.5735\n",
            "Epoch 3/5\n",
            "196/196 [==============================] - 32s 165ms/step - loss: 0.5704 - acc: 0.7324\n",
            "Epoch 4/5\n",
            "196/196 [==============================] - 41s 210ms/step - loss: 0.3587 - acc: 0.8659\n",
            "Epoch 5/5\n",
            "196/196 [==============================] - 38s 193ms/step - loss: 0.2699 - acc: 0.9005\n"
          ]
        }
      ],
      "source": [
        "rnn_history = rnn_model.fit(x_train, y_train, epochs=5, batch_size=128)"
      ]
    },
    {
      "cell_type": "code",
      "execution_count": 15,
      "metadata": {},
      "outputs": [
        {
          "name": "stdout",
          "output_type": "stream",
          "text": [
            "782/782 [==============================] - 30s 37ms/step - loss: 0.3262 - acc: 0.8660\n",
            "Test Accuracy: 0.8659999966621399\n"
          ]
        }
      ],
      "source": [
        "test_loss, test_acc = rnn_model.evaluate(x_test, y_test)\n",
        "print('Test Accuracy: {}'.format(test_acc))"
      ]
    }
  ],
  "metadata": {
    "colab": {
      "provenance": []
    },
    "kernelspec": {
      "display_name": "Python 3",
      "name": "python3"
    },
    "language_info": {
      "codemirror_mode": {
        "name": "ipython",
        "version": 3
      },
      "file_extension": ".py",
      "mimetype": "text/x-python",
      "name": "python",
      "nbconvert_exporter": "python",
      "pygments_lexer": "ipython3",
      "version": "3.10.10"
    }
  },
  "nbformat": 4,
  "nbformat_minor": 0
}
