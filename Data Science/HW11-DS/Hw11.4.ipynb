{
 "cells": [
  {
   "cell_type": "code",
   "execution_count": null,
   "metadata": {},
   "outputs": [],
   "source": [
    "import matplotlib.pyplot as plt\n",
    "from tensorflow import keras\n",
    "\n",
    "from keras.datasets.imdb import load_data\n",
    "from keras.optimizers import Adam\n",
    "from keras.utils import pad_sequences\n",
    "from keras.models import Sequential\n",
    "from keras.layers import Embedding, Bidirectional, LSTM, Dense, Dropout"
   ]
  },
  {
   "cell_type": "code",
   "execution_count": null,
   "metadata": {},
   "outputs": [],
   "source": [
    "max_features = 10000\n",
    "maxlen = 500\n",
    "batch_size = 32"
   ]
  },
  {
   "cell_type": "code",
   "execution_count": null,
   "metadata": {},
   "outputs": [],
   "source": [
    "(x_train, y_train), (x_test, y_test) = load_data(num_words=max_features)"
   ]
  },
  {
   "cell_type": "code",
   "execution_count": null,
   "metadata": {},
   "outputs": [],
   "source": [
    "x_train = pad_sequences(x_train, maxlen=maxlen)\n",
    "x_test = pad_sequences(x_test, maxlen=maxlen)"
   ]
  },
  {
   "cell_type": "code",
   "execution_count": null,
   "metadata": {},
   "outputs": [],
   "source": [
    "drnn_model = Sequential()\n",
    "drnn_model.add(Embedding(max_features, 32))\n",
    "drnn_model.add(Dropout(0.2))\n",
    "drnn_model.add(Bidirectional(LSTM(32, return_sequences=True)))\n",
    "drnn_model.add(Bidirectional(LSTM(32)))\n",
    "drnn_model.add(Dense(256, activation = \"relu\"))\n",
    "drnn_model.add(Dropout(0.2))\n",
    "drnn_model.add(Dense(1, activation='sigmoid'))"
   ]
  },
  {
   "cell_type": "code",
   "execution_count": null,
   "metadata": {},
   "outputs": [],
   "source": [
    "drnn_model.compile(optimizer=Adam(1e-4), loss='binary_crossentropy', metrics=['acc'])"
   ]
  },
  {
   "cell_type": "code",
   "execution_count": null,
   "metadata": {},
   "outputs": [],
   "source": [
    "drnn_history = drnn_model.fit(x_train, y_train, epochs=10, batch_size=32, validation_split=0.2)"
   ]
  },
  {
   "cell_type": "code",
   "execution_count": 8,
   "metadata": {},
   "outputs": [
    {
     "name": "stdout",
     "output_type": "stream",
     "text": [
      "782/782 [==============================] - 128s 163ms/step - loss: 0.3315 - acc: 0.8749\n",
      "Test Accuracy: 0.8749200105667114\n"
     ]
    }
   ],
   "source": [
    "test_loss, test_acc = drnn_model.evaluate(x_test, y_test)\n",
    "print('Test Accuracy: {}'.format(test_acc))"
   ]
  },
  {
   "cell_type": "markdown",
   "metadata": {},
   "source": [
    "# Conclusion\n",
    "\n",
    "In this homework assignment, we created 4 different recurrent neural networks:  \n",
    "\n",
    "RNN:  \n",
    " * Time of learning: 180s \n",
    " * Accuracy: 86.6%\n",
    "\n",
    "LSTM:  \n",
    " * Time of learning: 1920s\n",
    " * Accuracy: 86.7%\n",
    "\n",
    "BRN:  \n",
    " * Time of learning: 2000s\n",
    " * Accuracy: 86.8%\n",
    "\n",
    "DRN:  \n",
    " * Time of learning: 1500s\n",
    " * Accuracy: 87.5%"
   ]
  }
 ],
 "metadata": {
  "kernelspec": {
   "display_name": "Python 3",
   "language": "python",
   "name": "python3"
  },
  "language_info": {
   "codemirror_mode": {
    "name": "ipython",
    "version": 3
   },
   "file_extension": ".py",
   "mimetype": "text/x-python",
   "name": "python",
   "nbconvert_exporter": "python",
   "pygments_lexer": "ipython3",
   "version": "3.10.10"
  },
  "orig_nbformat": 4
 },
 "nbformat": 4,
 "nbformat_minor": 2
}
